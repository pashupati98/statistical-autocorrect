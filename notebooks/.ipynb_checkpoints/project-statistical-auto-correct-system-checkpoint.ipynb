{
 "cells": [
  {
   "cell_type": "markdown",
   "metadata": {
    "_cell_guid": "5c6ba0f9-cccf-46be-bb3a-1cfe081456e2",
    "_uuid": "0f146f53-b091-4589-b851-b0985e83e446"
   },
   "source": [
    "# <p style=\"background-color:skyblue; font-family:newtimeroman; font-size:180%; text-align:center\">Introduction</p>\n",
    "\n",
    "I'm often amazed by the auto-correct systems that are used by Google, Grammerly, Android etc. I wanted to know how these systems work and I started reading about them. And as expected...They are really complex!! If you too want to read about them. Here you go - \n",
    "- [Using the Web for Language Independent Spellchecking and\n",
    "Autocorrection](http://static.googleusercontent.com/media/research.google.com/en/us/pubs/archive/36180.pdf)\n",
    "- [How Difficult is it to Develop a Perfect Spell-checker?\n",
    "A Cross-linguistic Analysis through Complex Network Approach](http://citeseerx.ist.psu.edu/viewdoc/download;jsessionid=52A3B869596656C9DA285DCE83A0339F?doi=10.1.1.146.4390&rep=rep1&type=pdf)\n",
    "\n",
    "> Then I found an intutive auto correct system that uses statistics, probability and dynamic programming. In this project I have tried to impliment this auto-correct system. [References at the bottom]\n",
    "\n",
    "Let's begin!"
   ]
  },
  {
   "cell_type": "code",
   "execution_count": 1,
   "metadata": {
    "_cell_guid": "d9892c4a-1471-4bbb-b103-ba86f2a6b214",
    "_uuid": "e32da8ad-8c1b-4549-a2e5-a0f9f890e3e8"
   },
   "outputs": [],
   "source": [
    "import os\n",
    "import re\n",
    "import numpy as np \n",
    "import pandas as pd \n",
    "from collections import Counter\n",
    "import nltk"
   ]
  },
  {
   "cell_type": "markdown",
   "metadata": {
    "_cell_guid": "4be18ca3-c2ce-4e56-8cbb-8db3a9ea91c2",
    "_uuid": "2f64ee38-5d8b-48ef-9a82-a7de450cd04b"
   },
   "source": [
    "# Auto-correct systems\n",
    "<div>\n",
    "<p>The task of an auto-correct system is finding out which words in a document are misspelled. These mispelled words might be presented to a user by underlining that words. Correction is the task of substituting the well-spelled word for misspellings.\n",
    "</p>\n",
    "<img style=\"align:center\", src=\"https://github.com/pashupati98/kaggle-archives/blob/main/img/img2.PNG?raw=true\">\n",
    "    <hr>\n",
    "    <p>The very first requirement of auto-correct system is data. I have checked multiple data sources and will be using one of them.</p>\n",
    "</div>"
   ]
  },
  {
   "cell_type": "markdown",
   "metadata": {
    "_cell_guid": "bfc9674d-9fc3-4f68-a061-a304b67ea8e6",
    "_uuid": "ff854229-7e47-47a6-887b-6be58c098f26"
   },
   "source": [
    "## Data Requirement\n",
    "\n",
    "We need a trusted text corpus that we'll use to build the auto-correct system. There are many public domain text corpus. Since it's a unsupervised type of problem here what we need is just text. You can use any competition data or any other public dataset that has text field column. In the currect version I have used shakespeare corpus. Since. it's a very small corpus we need to compromise on word probabilities. I the next version I'll experiment with large corpuses. I'll be combining multiple datasets to making large corpus and then build the system on top of that.\n",
    "\n",
    "Let's look at the corpus."
   ]
  },
  {
   "cell_type": "code",
   "execution_count": 4,
   "metadata": {
    "_cell_guid": "a26d2e83-7ecd-4b31-86aa-493847ef6e84",
    "_uuid": "c8b4fd06-c10c-46e6-b5e9-9a78b763fbca"
   },
   "outputs": [],
   "source": [
    "with open('../wiki_corpus.txt', 'r') as f:\n",
    "    file = f.readlines()"
   ]
  },
  {
   "cell_type": "code",
   "execution_count": 8,
   "metadata": {
    "_cell_guid": "bc9a8c32-c6fb-4f4f-9fd5-4f0b4e6d771b",
    "_uuid": "38323031-0870-451d-a24e-97f19510bff4"
   },
   "outputs": [
    {
     "data": {
      "text/plain": [
       "'anarchism is political philosophy and movement that is sceptical of authority and rejects all involuntary coercive forms of hierarchy anarchism calls for the abolition of the state which it holds to be undesirable unnecessary and harmful it is usually described alongside libertarian marxism as the libertarian wing libertarian socialism of the socialist movement and as having historical association with anti capitalism and socialism the history of anarchism goes back to prehistory when humans arguably lived in anarchistic societies long before the establishment of formal states realms or empires with the rise of organised hierarchical bodies scepticism toward authority also rose but it was not until the th century that self conscious political movement emerged during the latter half of the th and the first decades of the th century the anarchist movement flourished in most parts of the world and had significant role in workers struggles for emancipation various anarchist schools of thought formed during this period anarchists have taken part in several revolutions most notably in the spanish civil war whose end marked the end of the classical era of anarchism in the last decades of the th and into the st century the anarchist movement has been resurgent once more anarchism employs diversity of tactics in order to meet its ideal ends which can be broadly separated into revolutionary and evolutionary tactics there is significant overlap between the two which are merely descriptive revolutionary tactics aim to bring down authority and state having taken violent turn in the past evolutionary tactics aim to prefigure what an anarchist society would be like anarchist thought criticism and praxis have played part in diverse areas of human society criticisms of anarchism include claims that it is internally inconsistent violent or utopian etymology terminology and definition wilhelm weitling an example of writer who added to anarchist theory without using the exact term the etymological origin of anarchism is from the ancient greek anarkhia meaning without ruler composed of the prefix an without and the word arkhos leader or ruler the suffix ism denotes the ideological current that favours anarchy anarchism appears in english from as anarchisme and anarchy from early english usages emphasised sense of disorder various factions within the french revolution labelled their opponents as anarchists although few such accused shared many views with later anarchists many revolutionaries of the th century such as william godwin and wilhelm weitling would contribute to the anarchist doctrines of the next generation but they did not use anarchist or anarchism in describing themselves or their beliefs the first political philosopher to call himself an anarchist was pierre joseph proudhon marking the formal birth of anarchism in the mid th century since the and beginning in france libertarianism has often been used as synonym for anarchism and its use as synonym is still common outside the united states on the other hand some use libertarianism to refer to individualistic free market philosophy only referring to free market anarchism as libertarian anarchism while the term libertarian has been largely synonymous with anarchism its meaning has more recently diluted with wider adoption from ideologically disparate groups including both the new left and libertarian marxists who do not associate themselves with authoritarian socialists or vanguard party as well as extreme liberals primarily concerned with civil liberties additionally some anarchists use libertarian socialist to avoid anarchism negative connotations and emphasise its connections with socialism matthew adams and carl levy write that anarchism is used to describe the anti authoritarian wing of the socialist movement noam chomsky describes anarchism alongside libertarian marxism as the libertarian wing of socialism daniel guérin wrote anarchism is really synonym for socialism the anarchist is primarily socialist whose aim is to abolish the exploitation of man by man anarchism is only one of the streams of socialist thought that stream whose main components are concern for liberty and haste to abolish the state while opposition to the state is central to anarchist thought defining anarchism is not an easy task as there is lot of discussion among scholars and anarchists on the matter and various currents perceive anarchism slightly differently hence it might be true to say that anarchism is cluster of political philosophies opposing authority and hierarchical organisation including capitalism nationalism the state and all associated institutions in the conduct of all human relations in favour of society based on freedom and voluntary association however this definition has the same shortcomings as the definition based on anti which is an posteriori conclusion anti statism anarchism is much more than that and etymology which is simply negation of ruler nonetheless major elements of the definition of anarchism include the will for non coercive society the rejection of the state apparatus the belief that human nature allows humans to exist in or progress toward such non coercive society and suggestion on how to act to pursue the ideal of anarchy herbert osgood claimed that anarchism is the extreme antithesis of authoritarian communism and state socialism peter marshall states that in general anarchism is closer to socialism than liberalism anarchism finds itself largely in the socialist camp but it also has outriders in liberalism it cannot be reduced to socialism and is best seen as separate and distinctive doctrine according to jeremy jennings it is hard not to conclude that these ideas referring to anarcho capitalism are described as anarchist only on the basis of of what anarchism is jennings adds that anarchism does not stand for the untrammelled freedom of the individual as the anarcho capitalists appear to believe but as we have already seen for the extension of individuality and community nicolas walter wrote that anarchism does derive from liberalism and socialism both historically and ideologically in sense anarchists always remain liberals and socialists and whenever they reject what is good in either they betray anarchism itself we are liberals but more so and socialists but more so michael newman includes anarchism as one of many socialist traditions especially the more socialist aligned tradition following proudhon and mikhail bakunin brian morriss argues that it is conceptually and historically misleading to create dichotomy between socialism and anarchism history pre modern era zeno of citium bc whose republic inspired peter kropotkin during the prehistoric era of mankind an established authority did not exist it was after the creation of towns and cities that institutions of authority were established and anarchistic ideas espoused as reaction the most notable precursors to anarchism in the ancient world were in china and greece in china philosophical anarchism the discussion on the legitimacy of the state was delineated by taoist philosophers zhuang zhou and laozi alongside stoicism taoism has been said to have had significant anticipations of anarchism anarchic attitudes were also articulated by tragedians and philosophers in greece aeschylus and sophocles used the myth of antigone to illustrate the conflict between rules set by the state and personal autonomy socrates questioned athenian authorities constantly and insisted on the right of individual freedom of conscience cynics dismissed human law nomos and associated authorities while trying to live according to nature physis stoics were supportive of society based on unofficial and friendly relations among its citizens without the presence of state during the middle ages there was no anarchistic activity except some ascetic religious movements in the muslim world or in christian europe this kind of tradition later gave birth to religious anarchism in the sasanian empire mazdak called for an egalitarian society and the abolition of monarchy only to be soon executed by emperor kavad in basra religious sects preached against the state in europe various sects developed anti state and libertarian tendencies libertarian ideas further emerged during the renaissance with the spread of humanism rationalism and reasoning through europe novelists fictionalised ideal societies that were based on voluntarism rather than coercion the age of enlightenment further pushed towards anarchism with the optimism for social progress modern era during the french revolution partisan groups such as the enragés and the saw turning point in the fermentation of anti state and federalist sentiments the first anarchist currents developed throughout the th century as william godwin espoused philosophical anarchism in england morally delegitimising the state max stirner thinking paved the way to individualism and pierre joseph proudhon theory of mutualism found fertile soil in france by the late various anarchist schools of thought had become well defined and wave of then unprecedented globalization occurred from to this era of classical anarchism lasted until the end of the spanish civil war and is considered the golden age of anarchism mikhail bakunin who opposed the marxist aim of dictatorship of the proletariat and allied himself with the federalists in the first international before his expulsion by the marxists drawing from mutualism mikhail bakunin founded collectivist anarchism and entered the international workingmen association class worker union later known as the first international that formed in to unite diverse revolutionary currents the international became significant political force with karl marx being leading figure and member of its general council bakunin faction the jura federation and proudhon followers the mutualists opposed state socialism advocating political abstentionism and small property holdings after bitter disputes the bakuninists were expelled from the international by the marxists at the hague congress anarchists were treated similarly in the second international being ultimately expelled in bakunin famously predicted that if revolutionaries gained power by marx terms they would end up the new tyrants of workers in response to their expulsion from the first international anarchists formed the st imier international under the influence of peter kropotkin russian philosopher and scientist anarcho communism overlapped with collectivism anarcho communists who drew inspiration from the paris commune advocated for free federation and for the distribution of goods according to one needs at the turn of the century anarchism had spread all over the world it was notable feature of the international syndicalism movement in china small groups of students imported the humanistic pro science version of anarcho communism tokyo was hotspot for rebellious youth from countries of the far east travelling to the japanese capital to study in latin america argentina was stronghold for anarcho syndicalism where it became the most prominent left wing ideology during this time minority of anarchists adopted tactics of revolutionary political violence this strategy became known as propaganda of the deed the dismemberment of the french socialist movement into many groups and the execution and exile of many communards to penal colonies following the suppression of the paris commune favoured individualist political expression and acts even though many anarchists distanced themselves from these terrorist acts infamy came upon the movement and attempts were made to exclude them from american immigration including the immigration act of also called the anarchist exclusion act illegalism was another strategy which some anarchists adopted during this period nestor makhno with members of the anarchist revolutionary insurrectionary army of ukraine despite concerns anarchists participated in the russian revolution in opposition to the white movement however they met harsh suppression after the bolshevik government was stabilized several anarchists from petrograd and moscow fled to ukraine notably leading to the kronstadt rebellion and nestor makhno struggle in the free territory with the anarchists being crushed in russia two new antithetical currents emerged namely platformism and synthesis anarchism the former sought to create coherent group that would push for revolution while the latter were against anything that would resemble political party seeing the victories of the bolsheviks in the october revolution and the resulting russian civil war many workers and activists turned to communist parties which grew at the expense of anarchism and other socialist movements in france and the united states members of major syndicalist movements such as the general confederation of labour and the industrial workers of the world left their organisations and joined the communist international in the spanish civil war of anarchists and syndicalists cnt and fai once again allied themselves with various currents of leftists long tradition of spanish anarchism led to anarchists playing pivotal role in the war in response to the army rebellion an anarchist inspired movement of peasants and workers supported by armed militias took control of barcelona and of large areas of rural spain where they collectivised the land the soviet union provided some limited assistance at the beginning of the war but the result was bitter fight among communists and anarchists at series of events named may days as joseph stalin tried to seize control of the republicans post war era rojava support efforts for workers to form cooperatives is exemplified in this sewing cooperative at the end of world war ii the anarchist movement was severely weakened however the witnessed revival of anarchism likely caused by perceived failure of marxism leninism and tensions built by the cold war during this time anarchism found presence in other movements critical towards both capitalism and the state such as the anti nuclear environmental and peace movements the counterculture of the and the new left it also saw transition from its previous revolutionary nature to provocative anti capitalist reformism anarchism became associated with punk subculture as exemplified by bands such as crass and the sex pistols the established feminist tendencies of anarcha feminism returned with vigour during the second wave of feminism black anarchism began to take form at this time and influenced anarchism move from eurocentric demographic this coincided with its failure to gain traction in northern europe and its unprecedented height in latin america around the turn of the st century anarchism grew in popularity and influence within anti capitalist anti war and anti globalisation movements anarchists became known for their involvement in protests against the world trade organization wto the group of eight and the world economic forum during the protests ad hoc leaderless anonymous cadres known as black blocs engaged in rioting property destruction and violent confrontations with the police other organisational tactics pioneered in this time include affinity groups security culture and the use of decentralised technologies such as the internet significant event of this period was the confrontations at the seattle wto conference anarchist ideas have been influential in the development of the zapatistas in mexico and the democratic federation of northern syria more commonly known as rojava de facto autonomous region in northern syria thought anarchist schools of thought have been generally grouped into two main historical traditions social anarchism and individualist anarchism owing to their different origins values and evolution the individualist current emphasises negative liberty in opposing restraints upon the free individual while the social current emphasises positive liberty in aiming to achieve the free potential of society through equality and social ownership in chronological sense anarchism can be segmented by the classical currents of the late th century and the post classical currents anarcha feminism green anarchism and post anarchism developed thereafter beyond the specific factions of anarchist movements which constitute political anarchism lies philosophical anarchism which holds that the state lacks moral legitimacy without necessarily accepting the imperative of revolution to eliminate it component especially of individualist anarchism philosophical anarchism may tolerate the existence of minimal state but it argues that citizens have no moral obligation to obey government when it conflicts with individual autonomy anarchism pays significant attention to moral arguments since ethics have central role in anarchist philosophy anarchism emphasis on anti capitalism egalitarianism and for the extension of community and individuality sets it apart from anarcho capitalism and other types of economic libertarianism anarchism is usually placed on the far left of the political spectrum much of its economics and legal philosophy reflect anti authoritarian anti statist libertarian and radical interpretations of left wing and socialist politics such as collectivism communism individualism mutualism and syndicalism among other libertarian socialist economic theories as anarchism does not offer fixed body of doctrine from single particular worldview many anarchist types and traditions exist and varieties of anarchy diverge widely one reaction against sectarianism within the anarchist milieu was anarchism without adjectives call for toleration and unity among anarchists first adopted by fernando tarrida del mármol in in response to the bitter debates of anarchist theory at the time belief in political nihilism has been espoused by anarchists despite separation the various anarchist schools of thought are not seen as distinct entities but rather as tendencies that intermingle and are connected through set of uniform principles such as individual and local autonomy mutual aid network organisation communal democracy justified authority and classical pierre joseph proudhon the primary proponent of mutualism who influenced many future individualist anarchist and social anarchist thinkers inceptive currents among classical anarchist currents were mutualism and individualism they were followed by the major currents of social anarchism collectivist communist and syndicalist they differ on organisational and economic aspects of their ideal society mutualism is an th century economic theory that was developed into anarchist theory by pierre joseph proudhon its aims include reciprocity free association voluntary contract federation and monetary reform of both credit and currency that would be regulated by bank of the people mutualism has been retrospectively characterised as ideologically situated between individualist and collectivist forms of anarchism in what is property proudhon first characterised his goal as third form of society the synthesis of communism and property collectivist anarchism is revolutionary socialist form of anarchism commonly associated with mikhail bakunin collectivist anarchists advocate collective ownership of the means of production which is theorised to be achieved through violent revolution and that workers be paid according to time worked rather than goods being distributed according to need as in communism collectivist anarchism arose alongside marxism but it rejected the dictatorship of the proletariat despite the stated marxist goal of collectivist stateless society anarcho communism is theory of anarchism that advocates communist society with common ownership of the means of production direct democracy and horizontal network of voluntary associations workers councils and worker cooperatives with production and consumption based on the guiding principle from each according to his ability to each according to his need anarcho communism developed from radical socialist currents after the french revolution but it was first formulated as such in the italian section of the first international it was later expanded upon in the theoretical work of peter kropotkin whose specific style would go onto become the dominating view of anarchists by the late th century anarcho syndicalism is branch of anarchism that views labour syndicates as potential force for revolutionary social change replacing capitalism and the state with new society democratically self managed by workers the basic principles of anarcho syndicalism are direct action workers solidarity and workers self management individualist anarchism is set of several traditions of thought within the anarchist movement that emphasise the individual and their will over any kinds of external determinants early influences on individualist forms of anarchism include william godwin max stirner and henry david thoreau through many countries individualist anarchism attracted small yet diverse following of bohemian artists and intellectuals as well as young anarchist outlaws in what became known as illegalism and individual reclamation post classical and contemporary lawrence jarach left and john zerzan right two prominent contemporary anarchist authors with zerzan being prominent voice within anarcho primitivism and jarach noted advocate of post left anarchy anarchist principles undergird contemporary radical social movements of the left interest in the anarchist movement developed alongside momentum in the anti globalisation movement whose leading activist networks were anarchist in orientation as the movement shaped st century radicalism wider embrace of anarchist principles signaled revival of interest anarchism has continued to generate many philosophies and movements at times eclectic drawing upon various sources and syncretic combining disparate concepts to create new philosophical approaches the anti capitalist tradition of classical anarchism has remained prominent within contemporary currents contemporary news coverage which emphasizes black bloc demonstrations has reinforced anarchism historical association with chaos and violence however its publicity has also led more scholars in fields such as anthropology and history to engage with the anarchist movement although contemporary anarchism favours actions over academic theory various anarchist groups tendencies and schools of thought exist today making it difficult to describe the contemporary anarchist movement while theorists and activists have established relatively stable constellations of anarchist principles there is no consensus on which principles are core and commentators describe multiple anarchisms rather than singular anarchism in which common principles are shared between schools of anarchism while each group prioritizes those principles differently gender equality can be common principle although it ranks as higher priority to anarcha feminists than anarcho communists anarchists are generally committed against coercive authority in all forms namely all centralized and hierarchical forms of government monarchy representative democracy state socialism etc economic class systems capitalism bolshevism feudalism slavery etc autocratic religions fundamentalist islam roman catholicism etc patriarchy heterosexism white supremacy and imperialism however anarchist schools disagree on the methods by which these forms should be opposed the principle of equal liberty is closer to anarchist political ethics in that it transcends both the liberal and socialist traditions this entails that liberty and equality cannot be implemented within the state resulting in the questioning of all forms of domination and hierarchy tactics anarchists tactics take various forms but in general they serve two major goals namely to first oppose the establishment and secondly to promote anarchist ethics and reflect an anarchist vision of society illustrating the unity of means and ends broad categorisation can be made between aims to destroy oppressive states and institutions by revolutionary means on one hand and aims to change society through evolutionary means on the other evolutionary tactics embrace nonviolence reject violence and take gradual approach to anarchist aims although there is significant overlap between the two anarchist tactics have shifted during the course of the last century anarchists during the early th century focused more on strikes and militancy while contemporary anarchists use broader array of approaches classical era tactics the relationship between anarchism and violence is controversial subject among anarchists as shown by anarchist leon czolgosz assassinating william mckinley during the classical era anarchists had militant tendency not only did they confront state armed forces as in spain and ukraine but some of them also employed terrorism as propaganda of the deed assassination attempts were carried out against heads of state some of which were successful anarchists also took part in revolutions many anarchists especially the galleanists believed that these attempts would be the impetus for revolution against capitalism and the state many of these attacks were done by individual assailants and the majority took place in the late the early and the with some still occurring in the early their decrease in prevalence was the result of further judicial power and targeting and cataloging by state institutions anarchist perspectives towards violence have always been perplexing and controversial on one hand anarcho pacifists point out the unity of means and ends on the other hand other anarchist groups advocate direct action tactic which can include acts of sabotage or even acts of terrorism this attitude was quite prominent century ago when seeing the state as tyrant and some anarchists believing that they had every right to oppose its oppression by any means possible emma goldman and errico malatesta who were proponents of limited use of violence argued that violence is merely reaction to state violence as necessary evil anarchists took an active role in strike actions although they tended to be antipathetic to formal syndicalism seeing it as reformist they saw it as part of the movement which sought to overthrow the state and capitalism anarchists also reinforced their propaganda within the arts some of whom practiced naturism and nudism those anarchists also built communities which were based on friendship and were involved in the news media revolutionary tactics black bloc protesters parading anarcho communism imagery such as the motto no war but the class war in the current era italian anarchist alfredo bonanno proponent of insurrectionary anarchism has reinstated the debate on violence by rejecting the nonviolence tactic adopted since the late th century by kropotkin and other prominent anarchists afterwards both bonanno and the french group the invisible committee advocate for small informal affiliation groups where each member is responsible for their own actions but works together to bring down oppression utilizing sabotage and other violent means against state capitalism and other enemies members of the invisible committee were arrested in on various charges terrorism included overall contemporary anarchists are much less violent and militant than their ideological ancestors they mostly engage in confronting the police during demonstrations and riots especially in countries such as canada greece and mexico militant black bloc protest groups are known for clashing with the police however anarchists not only clash with state operators they also engage in the struggle against fascists and racists taking anti fascist action and mobilizing to prevent hate rallies from happening evolutionary tactics anarchists commonly employ direct action this can take the form of disrupting and protesting against unjust hierarchy or the form of self managing their lives through the creation of counter institutions such as communes and non hierarchical collectives decision making is often handled in an anti authoritarian way with everyone having equal say in each decision an approach known as horizontalism contemporary era anarchists have been engaging with various grassroots movements that are more or less based on horizontalism although not explicitly anarchist respecting personal autonomy and participating in mass activism such as strikes and demonstrations in contrast with the big anarchism of the classical era the newly coined term small anarchism signals their tendency not to base their thoughts and actions on classical era anarchism or to refer to classical anarchists such as peter kropotkin and pierre joseph proudhon to justify their opinions those anarchists would rather base their thought and praxis on their own experience which they will later theorize the decision making process of small anarchist affinity groups plays significant tactical role anarchists have employed various methods in order to build rough consensus among members of their group without the need of leader or leading group one way is for an individual from the group to play the role of facilitator to help achieve consensus without taking part in the discussion themselves or promoting specific point minorities usually accept rough consensus except when they feel the proposal contradicts anarchist ethics goals and values anarchists usually form small groups individuals to enhance autonomy and friendships among their members these kinds of groups more often than not interconnect with each other forming larger networks anarchists still support and participate in strikes especially wildcat strikes as these are leaderless strikes not organised centrally by syndicate as in the past newspapers and journals are used but anarchists have gone online in the world wide web to spread their message however anarchists have found it easier to create websites because of distributional and other difficulties hosting electronic libraries and other portals anarchists were also involved in developing various software that are available for free the way these hacktivists work to develop and distribute resembles the anarchist ideals especially when it comes to preserving users privacy from state surveillance anarchists organize themselves to squat and reclaim public spaces during important events such as protests and when spaces are being occupied they are often called temporary autonomous zones taz spaces where art poetry and surrealism are blended to display the anarchist ideal as seen by anarchists squatting is way to regain urban space from the capitalist market serving pragmatical needs and also being an exemplary direct action acquiring space enables anarchists to experiment with their ideas and build social bonds adding up these tactics while having in mind that not all anarchists share the same attitudes towards them along with various forms of protesting at highly symbolic events make up carnivalesque atmosphere that is part of contemporary anarchist vividity key issues as anarchism is philosophy that embodies many diverse attitudes tendencies schools of thought disagreement over questions of values ideology and tactics is common its diversity has led to widely different uses of identical terms among different anarchist traditions which has created number of definitional concerns in anarchist theory the compatibility of capitalism nationalism and religion with anarchism is widely disputed similarly anarchism enjoys complex relationships with ideologies such as communism collectivism marxism and trade unionism anarchists may be motivated by humanism divine authority enlightened self interest veganism or any number of alternative ethical doctrines phenomena such as civilisation technology within anarcho primitivism and the democratic process may be sharply criticised within some anarchist tendencies and simultaneously lauded in others gender sexuality and free love émile armand french individualist anarchist who propounded the virtues of free love in the parisian anarchist milieu of the early th century as gender and sexuality carry along them dynamics of hierarchy anarchism is obliged to address analyse and oppose the suppression of one autonomy because of the dynamics that gender roles traditionally impose collection of anarcha feminist protests symbols and flags sexuality was not often discussed by classical anarchists but the few that did felt that an anarchist society would lead to sexuality naturally developing however sexual violence was concern for anarchists such as benjamin tucker who opposed age of consent laws believing they would benefit predatory men historical current that arose and flourished during and within anarchism was free love in contemporary anarchism this current survives as tendency to support polyamory and queer anarchism free love advocates were against marriage which they saw as way of men imposing authority over women largely because marriage law greatly favoured the power of men the notion of free love was much broader and included critique of the established order that limited women sexual freedom and pleasure those free love movements contributed to the establishment of communal houses where large groups of travelers anarchists and other activists slept in beds together free love had roots both in europe and the united states however some anarchists struggled with the jealousy that arose from free love anarchist feminists were advocates of free love against marriage pro choice utilising contemporary term and had similar agenda anarchist and non anarchist feminists differed on suffrage but they were nonetheless supportive of one another during the second half of the th century anarchism intermingled with the second wave of feminism radicalising some currents of the feminist movement and being influenced as well by the latest decades of the th century anarchists and feminists were advocating for the rights and autonomy of women gays queers and other marginalised groups with some feminist thinkers suggesting fusion of the two currents with the third wave of feminism sexual identity and compulsory heterosexuality became subject of study for anarchists yielding post structuralist critique of sexual normality however some anarchists distanced themselves from this line of thinking suggesting that it leaned towards an individualism that was dropping the cause of social liberation anarchism and education anarchist vs statist perspectives on educationruth kinna anarchist education state education concept education as self mastery education as service management community based state run methods practice based learning vocational training aims being critical member of society being productive member of society the interest of anarchists in education stretches back to the first emergence of classical anarchism anarchists consider proper education one which sets the foundations of the future autonomy of the individual and the society to be an act of mutual aid anarchist writers such as william godwin political justice and max stirner the false principle of our education attacked both state education and private education as another means by which the ruling class replicate their privileges in catalan anarchist and free thinker francisco ferrer established the escuela moderna in barcelona as an opposition to the established education system which was dictated largely by the catholic church ferrer approach was secular rejecting both state and church involvement in the educational process whilst giving pupils large amounts of autonomy in planning their work and attendance ferrer aimed to educate the working class and explicitly sought to foster class consciousness among students the school closed after constant harassment by the state and ferrer was later arrested nonetheless his ideas formed the inspiration for series of modern schools around the world christian anarchist leo tolstoy who published the essay education and culture also established similar school with its founding principle being that for education to be effective it had to be free in similar token neill founded what became the summerhill school in also declaring being free from coercion anarchist education is based largely on the idea that child right to develop freely and without manipulation ought to be respected and that rationality will lead children to morally good conclusions however there has been little consensus among anarchist figures as to what constitutes manipulation ferrer believed that moral indoctrination was necessary and explicitly taught pupils that equality liberty and social justice were not possible under capitalism along with other critiques of government and nationalism late th century and contemporary anarchist writers colin ward herbert read and paul goodman intensified and expanded the anarchist critique of state education largely focusing on the need for system that focuses on children creativity rather than on their ability to attain career or participate in consumerism as part of consumer society contemporary anarchists such as ward have further argued that state education serves to perpetuate socioeconomic inequality while few anarchist education institutions have survived to the modern day major tenets of anarchist schools among them respect for child autonomy and relying on reasoning rather than indoctrination as teaching method have spread among mainstream educational institutions judith suissa names three schools as explicitly anarchists schools namely the free skool santa cruz in the united states which is part of wider american canadian network of schools the self managed learning college in brighton england and the paideia school in spain anarchism and the state objection to the state and its institutions is sine qua non of anarchism anarchists consider the state as tool of domination and believe it to be illegitimate regardless of its political tendencies instead of people being able to control the aspects of their life major decisions are taken by small elite authority ultimately rests solely on power regardless of whether that power is open or transparent as it still has the ability to coerce people another anarchist argument against states is that the people constituting government even the most altruistic among officials will unavoidably seek to gain more power leading to corruption anarchists consider the idea that the state is the collective will of the people to be an unachievable fiction due to the fact that the ruling class is distinct from the rest of society specific anarchist attitudes towards the state vary robert paul wolff believed that the tension between authority and autonomy would mean the state could never be legitimate bakunin saw the state as meaning coercion domination by means of coercion camouflaged if possible but unceremonious and overt if need be john simmons and leslie green who leaned toward philosophical anarchism believed that the state could be legitimate if it is governed by consensus although they saw this as highly unlikely beliefs on how to abolish the state also differ anarchism and art les chataigniers osny by anarchist painter camille pissarro an example of blending anarchism and art the connection between anarchism and art was quite profound during the classical era of anarchism especially among artistic currents that were developing during that era such as futurists surrealists and others in literature anarchism was mostly associated with the new apocalyptics and the neo romanticism movement in music anarchism has been associated with music scenes such as punk anarchists such as leo tolstoy and herbert read argued that the border between the artist and the non artist what separates art from daily act is construct produced by the alienation caused by capitalism and it prevents humans from living joyful life other anarchists advocated for or used art as means to achieve anarchist ends in his book breaking the spell history of anarchist filmmakers videotape guerrillas and digital ninjas chris robé claims that anarchist inflected practices have increasingly structured movement based video activism throughout the th century many prominent anarchists peter kropotkin emma goldman gustav landauer and camillo berneri and publications such as anarchy wrote about matters pertaining to the arts three overlapping properties made art useful to anarchists it could depict critique of existing society and hierarchies serve as prefigurative tool to reflect the anarchist ideal society and even turn into means of direct action such as in protests as it appeals to both emotion and reason art could appeal to the whole human and have powerful effect the th century neo impressionist movement had an ecological aesthetic and offered an example of an anarchist perception of the road towards socialism in les chataigniers osny by anarchist painter camille pissarro the blending of aesthetic and social harmony is prefiguring an ideal anarchistic agrarian community criticism bertrand russell argued that anarchism was unable to provide all the services that government does the most common critique of anarchism is that humans cannot self govern and so state is necessary for human survival philosopher bertrand russell supported this critique stating that peace and war tariffs regulations of sanitary conditions and the sale of noxious drugs the preservation of just system of distribution these among others are functions which could hardly be performed in community in which there was no central government another common criticism of anarchism is that it fits world of isolation in which only the small enough entities can be self governing colin ward responds that major anarchist thinkers advocated federalism philosophy lecturer andrew fiala also believed that humans could not self govern and included it in his list of arguments against anarchism fiala other critiques were that anarchism is innately related to violence and destruction not only in the pragmatic world at protests but in the world of ethics as well secondly anarchism is evaluated as unfeasible or utopian since the state can not be defeated practically this line of arguments most often calls for political action within the system to reform it the third argument is that anarchism is self contradictory while it advocates for no one to archiei if accepted by the many then anarchism would turn into the ruling political theory in this line of criticism also comes the self contradiction that anarchism calls for collective action whilst endorsing the autonomy of the individual hence no collective action can be taken lastly fiala mentions critique towards philosophical anarchism of being ineffective all talk and thoughts and in the meantime capitalism and bourgeois class remains strong philosophical anarchism has met the criticism of members of academia following the release of pro anarchist books such as john simmons moral principles and political obligations law professor william edmundson authored an essay arguing against three major philosophical anarchist principles which he finds fallacious edmundson claims that while the individual does not owe the state duty of obedience this does not imply that anarchism is the inevitable conclusion and the state is still morally legitimate in the problem of political authority michael huemer defends philosophical anarchism claiming that political authority is moral illusion another criticism is that anarchism defies and fails to understand the biological inclination to authority as first articulated in an article for the north american review by frances ferguson joseph raz argues that the acceptance of authority implies the belief that following their instructions will afford more success raz believes that this argument is true in following both authorities successful and mistaken instruction anarchists reject this criticism because challenging or disobeying authority does not entail the disappearance of its advantages by acknowledging authority such as doctors or lawyers as reliable nor does it involve complete surrender of independent judgment anarchist perception of human nature rejection of the state and commitment to social revolution has been criticised by academics as naive overly simplistic and unrealistic respectively classical anarchism has been criticised for relying too heavily on the belief that the abolition of the state will lead to human cooperation prospering academic john molyneux writes in his book anarchism marxist criticism that anarchism cannot win believing that it lacks the ability to properly implement its ideas the marxist criticism of anarchism is that it has utopian character because all individuals should have anarchist views and values according to the marxist view that social idea would follow directly from this human ideal and out of the free will of every individual formed its essence marxists argue that this contradiction was responsible for their inability to act in the anarchist vision the conflict between liberty and equality was resolved through coexistence and intertwining see also anarchism by country governance without government list of anarchist political ideologies list of books about anarchism references citations sources primary sources secondary sources tertiary sources further reading criticism of philosophical anarchism defence of philosophical anarchism arguing that both kinds of anarchism philosophical and political anarchism are philosophical and political claims anarchistic popular fiction novel an argument for philosophical anarchism external links anarchy archives anarchy archives is an online research center on the history and theory of anarchism\\n'"
      ]
     },
     "execution_count": 8,
     "metadata": {},
     "output_type": "execute_result"
    }
   ],
   "source": [
    "file[0]"
   ]
  },
  {
   "cell_type": "markdown",
   "metadata": {
    "_cell_guid": "3a9ae404-924c-4e8d-942e-3864fa76f724",
    "_uuid": "0739dbe8-a6be-4586-b903-bb08fbcc718f"
   },
   "source": [
    "Cool. Now we need to process this corpus. Since it's pretty clean corpus we need to do only two thisga - Tokenizing and Lowercasing."
   ]
  },
  {
   "cell_type": "code",
   "execution_count": 9,
   "metadata": {
    "_cell_guid": "b825f32a-99c3-4e34-9722-a7f68aa0b700",
    "_uuid": "50214802-dcf3-4916-a907-71fca3f52080"
   },
   "outputs": [],
   "source": [
    "def process_data(lines):\n",
    "    \"\"\"\n",
    "    Input: \n",
    "        A file_name which is found in your current directory. You just have to read it in. \n",
    "    Output: \n",
    "        words: a list containing all the words in the corpus (text file you read) in lower case. \n",
    "    \"\"\"\n",
    "    words = []        \n",
    "    for line in lines:\n",
    "        line = line.strip().lower()\n",
    "        word = re.findall(r'\\w+', line)\n",
    "        words.extend(word)\n",
    "    \n",
    "    return words"
   ]
  },
  {
   "cell_type": "code",
   "execution_count": null,
   "metadata": {
    "_cell_guid": "c8098e71-b9a8-4d7c-8ca8-a7245314aca6",
    "_uuid": "b571aa84-df60-4ee6-9dd9-10b552fae62c"
   },
   "outputs": [],
   "source": [
    "word_l = process_data(file)\n",
    "vocab = set(word_l)\n",
    "print(f\"The first ten words in the text are: \\n{word_l[0:10]}\")\n",
    "print(f\"There are {len(vocab)} unique words in the vocabulary.\")"
   ]
  },
  {
   "cell_type": "markdown",
   "metadata": {
    "_cell_guid": "46b86ff0-00e9-41c6-9488-32ae0b34f8f5",
    "_uuid": "12112af1-5bee-4013-a015-88cbad24846f"
   },
   "source": [
    "The data looks fine. Before moving to the next step let's first look at the architectire of our syste."
   ]
  },
  {
   "cell_type": "markdown",
   "metadata": {
    "_cell_guid": "14ccf0e9-b208-46bb-afad-2e52fad4577f",
    "_uuid": "1d94b12b-7d76-4350-8e67-60431c41c41a"
   },
   "source": [
    "# <p style=\"background-color:skyblue; font-family:newtimeroman; font-size:180%; text-align:center\">Architecture</p>\n",
    "\n",
    "<div>\n",
    "<img style=\"align:center\", src=\"https://github.com/pashupati98/kaggle-archives/blob/main/img/architecture.png?raw=true\">\n",
    "    <hr>\n",
    "</div>\n",
    "\n",
    "This auto-correct architecture has 4 components -\n",
    "- 1) Filtering Mispells : One simple approach could be checking if a word is there in the vocabulary or not. \n",
    "- 2) Word Suggestion Mechanism : This mechnism suggests candidate words based on deletion, insertion, switch or replace of one/two characters in the original word.\n",
    "- 3) Probability Distribution Mechanism : The probability distribution {key(word) : value(probability)} is created calculated using a large text corpus. Probability of each candidate is found using this distribution and the most probable candidate is the final one.\n",
    "- 4) Replace Mispells : Simple replace the mispelled word with the most probable suggestion.\n",
    "\n",
    "We'll impliment each part separetely."
   ]
  },
  {
   "cell_type": "markdown",
   "metadata": {
    "_cell_guid": "3e01f2d9-ad72-483e-9123-f5b58966def7",
    "_uuid": "25bf49e7-91be-41cb-b96f-d60f7244569f"
   },
   "source": [
    "### Artchitecture Part 1 : (Filtering Mispells)\n",
    "\n",
    "A function that tokenizes the sentences and checks the availability of each word in the vocabulary."
   ]
  },
  {
   "cell_type": "code",
   "execution_count": 6,
   "metadata": {
    "_cell_guid": "130d9a13-5fab-4b9c-b5bc-fc81582aeb96",
    "_uuid": "d24c9457-6c07-43f9-ab66-df209f9f0e62"
   },
   "outputs": [],
   "source": [
    "def find_wrong_word(sent, vocab):\n",
    "    wrong_words = []\n",
    "    sent = sent.strip().lower().split(\" \")\n",
    "    for word in sent:\n",
    "        if word not in vocab:\n",
    "            wrong_words.append(word)\n",
    "    return wrong_words"
   ]
  },
  {
   "cell_type": "code",
   "execution_count": 7,
   "metadata": {
    "_cell_guid": "4f7d0d10-f04c-4b14-b339-b9378f06f0b7",
    "_uuid": "4fc857a5-1633-4d6d-b47d-ea158d725fef"
   },
   "outputs": [
    {
     "data": {
      "text/plain": [
       "['goin']"
      ]
     },
     "execution_count": 7,
     "metadata": {},
     "output_type": "execute_result"
    }
   ],
   "source": [
    "find_wrong_word('I am goin home', vocab)"
   ]
  },
  {
   "cell_type": "markdown",
   "metadata": {
    "_cell_guid": "2f57a1c0-7c6f-4e28-b7e7-16201a68a5b1",
    "_uuid": "61939ae7-47da-4f0a-89b3-24f7d8e34cdb"
   },
   "source": [
    "### Architecture Part 2 : (Word Suggestion Mechanism)\n",
    "\n",
    "We'll impliment separate functions of each of the steps (deletion, insertion, switching, replace) and then combine them to edit one or two letter of the original word."
   ]
  },
  {
   "cell_type": "code",
   "execution_count": 8,
   "metadata": {
    "_cell_guid": "2a8f5ec9-3a0b-4c6d-bf3d-f6bdfbed643e",
    "_uuid": "c8cbe5e1-ea82-4a34-8c0e-780332ab55b6"
   },
   "outputs": [],
   "source": [
    "def delete_letter(word, verbose=False):\n",
    "    '''\n",
    "    Input:\n",
    "        word: the string/word for which you will generate all possible words \n",
    "                in the vocabulary which have 1 missing character\n",
    "    Output:\n",
    "        delete_l: a list of all possible strings obtained by deleting 1 character from word\n",
    "    '''\n",
    "    \n",
    "    delete_l = []\n",
    "    split_l = []\n",
    "    split_l = [(word[:i], word[i:]) for i in range(len(word))]\n",
    "    delete_l = [s[0]+s[1][1:] for s in split_l]\n",
    "    if verbose: print(f\"input word : {word} \\nsplit_l = {split_l}, \\ndelete_l = {delete_l}\")\n",
    "\n",
    "    return delete_l"
   ]
  },
  {
   "cell_type": "code",
   "execution_count": 9,
   "metadata": {
    "_cell_guid": "227c4c9b-a34f-471c-abc9-0c61ca2eae00",
    "_uuid": "d4b5da59-069c-4894-a51b-79b4215039e0"
   },
   "outputs": [
    {
     "name": "stdout",
     "output_type": "stream",
     "text": [
      "input word : cans \n",
      "split_l = [('', 'cans'), ('c', 'ans'), ('ca', 'ns'), ('can', 's')], \n",
      "delete_l = ['ans', 'cns', 'cas', 'can']\n"
     ]
    }
   ],
   "source": [
    "delete_word_l = delete_letter(word=\"cans\",\n",
    "                        verbose=True)"
   ]
  },
  {
   "cell_type": "code",
   "execution_count": 10,
   "metadata": {
    "_cell_guid": "e0b3e1f2-3fb3-4b49-8b7e-dd7ebfac946b",
    "_uuid": "c6366fe7-314c-48bd-befd-cd2abb87e04d"
   },
   "outputs": [],
   "source": [
    "def switch_letter(word, verbose=False):\n",
    "    '''\n",
    "    Input:\n",
    "        word: input string\n",
    "     Output:\n",
    "        switches: a list of all possible strings with one adjacent charater switched\n",
    "    ''' \n",
    "    \n",
    "    switch_l = []\n",
    "    split_l = []\n",
    "    split_l = [(word[:i], word[i:]) for i in range(len(word))]\n",
    "    for s in split_l:\n",
    "        if len(s[1])>2:\n",
    "            temp = s[0] + s[1][1] + s[1][0] + s[1][2:]\n",
    "        elif len(s[1]) == 2:\n",
    "            temp = s[0] + s[1][1] + s[1][0]\n",
    "        elif len(s[1]) == 1:\n",
    "            continue\n",
    "        switch_l.append(temp)\n",
    "    \n",
    "    if verbose: print(f\"Input word = {word} \\nsplit_l = {split_l} \\nswitch_l = {switch_l}\") \n",
    "\n",
    "    return switch_l"
   ]
  },
  {
   "cell_type": "code",
   "execution_count": 11,
   "metadata": {
    "_cell_guid": "5576ec3e-34ea-40bc-b710-a83fcdffd8ce",
    "_uuid": "7b9b4583-bf2d-4e78-9e81-42a1b82b4498"
   },
   "outputs": [
    {
     "name": "stdout",
     "output_type": "stream",
     "text": [
      "Input word = eta \n",
      "split_l = [('', 'eta'), ('e', 'ta'), ('et', 'a')] \n",
      "switch_l = ['tea', 'eat']\n"
     ]
    }
   ],
   "source": [
    "switch_word_l = switch_letter(word=\"eta\",\n",
    "                         verbose=True)"
   ]
  },
  {
   "cell_type": "code",
   "execution_count": 12,
   "metadata": {
    "_cell_guid": "bfd0b1f0-5aba-42fe-a692-fd5a10caf088",
    "_uuid": "35b3664a-2fc1-4549-b7dc-09ccfe71b52c"
   },
   "outputs": [],
   "source": [
    "def replace_letter(word, verbose=False):\n",
    "    '''\n",
    "    Input:\n",
    "        word: the input string/word \n",
    "    Output:\n",
    "        replaces: a list of all possible strings where we replaced one letter from the original word. \n",
    "    ''' \n",
    "    \n",
    "    letters = 'abcdefghijklmnopqrstuvwxyz'\n",
    "    replace_l = []\n",
    "    split_l = []\n",
    "    split_l = [(word[:i], word[i:]) for i in range(len(word))]\n",
    "    for s in split_l:\n",
    "        if len(s[1]) == 1:\n",
    "            for l in letters:\n",
    "                if l != s[1][0]:\n",
    "                    temp = l\n",
    "                    replace_l.append(s[0]+temp)\n",
    "        elif len(s) > 1:\n",
    "            for l in letters:\n",
    "                if l != s[1][0]:\n",
    "                    temp = l + s[1][1:]\n",
    "                    replace_l.append(s[0]+temp)\n",
    "        \n",
    "    replace_set = set(replace_l)\n",
    "    \n",
    "    # turn the set back into a list and sort it, for easier viewing\n",
    "    replace_l = sorted(list(replace_set))\n",
    "    \n",
    "    if verbose: print(f\"Input word = {word} \\nsplit_l = {split_l} \\nreplace_l {replace_l}\")   \n",
    "    \n",
    "    return replace_l"
   ]
  },
  {
   "cell_type": "code",
   "execution_count": 13,
   "metadata": {
    "_cell_guid": "015a3d2e-b099-4fc0-ac63-fcbc19db08ff",
    "_uuid": "e9b20be5-e42f-4575-b551-1bdd891c8c05"
   },
   "outputs": [
    {
     "name": "stdout",
     "output_type": "stream",
     "text": [
      "Input word = can \n",
      "split_l = [('', 'can'), ('c', 'an'), ('ca', 'n')] \n",
      "replace_l ['aan', 'ban', 'caa', 'cab', 'cac', 'cad', 'cae', 'caf', 'cag', 'cah', 'cai', 'caj', 'cak', 'cal', 'cam', 'cao', 'cap', 'caq', 'car', 'cas', 'cat', 'cau', 'cav', 'caw', 'cax', 'cay', 'caz', 'cbn', 'ccn', 'cdn', 'cen', 'cfn', 'cgn', 'chn', 'cin', 'cjn', 'ckn', 'cln', 'cmn', 'cnn', 'con', 'cpn', 'cqn', 'crn', 'csn', 'ctn', 'cun', 'cvn', 'cwn', 'cxn', 'cyn', 'czn', 'dan', 'ean', 'fan', 'gan', 'han', 'ian', 'jan', 'kan', 'lan', 'man', 'nan', 'oan', 'pan', 'qan', 'ran', 'san', 'tan', 'uan', 'van', 'wan', 'xan', 'yan', 'zan']\n"
     ]
    }
   ],
   "source": [
    "replace_l = replace_letter(word='can',\n",
    "                              verbose=True)"
   ]
  },
  {
   "cell_type": "code",
   "execution_count": 14,
   "metadata": {
    "_cell_guid": "f4666f80-8a44-428d-8a49-c7fce6df504f",
    "_uuid": "a6be624c-71b3-4f91-aa75-ff72f76db097"
   },
   "outputs": [
    {
     "name": "stdout",
     "output_type": "stream",
     "text": [
      "Number of outputs of switch_letter('at') is 3\n"
     ]
    }
   ],
   "source": [
    "print(f\"Number of outputs of switch_letter('at') is {len(switch_letter('fate'))}\")"
   ]
  },
  {
   "cell_type": "code",
   "execution_count": 15,
   "metadata": {
    "_cell_guid": "960708b0-22e9-4404-bf72-8acb0ba0377b",
    "_uuid": "7a1f34ca-e16f-49b3-bc4e-59b68588173b"
   },
   "outputs": [],
   "source": [
    "def insert_letter(word, verbose=False):\n",
    "    '''\n",
    "    Input:\n",
    "        word: the input string/word \n",
    "    Output:\n",
    "        inserts: a set of all possible strings with one new letter inserted at every offset\n",
    "    ''' \n",
    "    letters = 'abcdefghijklmnopqrstuvwxyz'\n",
    "    insert_l = []\n",
    "    split_l = []\n",
    "    split_l = [(word[:i], word[i:]) for i in range(len(word)+1)]\n",
    "    for s in split_l:\n",
    "        for l in letters:\n",
    "            insert_l.append(s[0]+l+s[1])\n",
    "\n",
    "    if verbose: print(f\"Input word {word} \\nsplit_l = {split_l} \\ninsert_l = {insert_l}\")\n",
    "    \n",
    "    return insert_l"
   ]
  },
  {
   "cell_type": "code",
   "execution_count": 16,
   "metadata": {
    "_cell_guid": "19304af7-6e72-4157-8634-e326bba8d5fa",
    "_uuid": "d549ee37-2b3f-48f1-89e9-95790a725724"
   },
   "outputs": [
    {
     "name": "stdout",
     "output_type": "stream",
     "text": [
      "Input word at \n",
      "split_l = [('', 'at'), ('a', 't'), ('at', '')] \n",
      "insert_l = ['aat', 'bat', 'cat', 'dat', 'eat', 'fat', 'gat', 'hat', 'iat', 'jat', 'kat', 'lat', 'mat', 'nat', 'oat', 'pat', 'qat', 'rat', 'sat', 'tat', 'uat', 'vat', 'wat', 'xat', 'yat', 'zat', 'aat', 'abt', 'act', 'adt', 'aet', 'aft', 'agt', 'aht', 'ait', 'ajt', 'akt', 'alt', 'amt', 'ant', 'aot', 'apt', 'aqt', 'art', 'ast', 'att', 'aut', 'avt', 'awt', 'axt', 'ayt', 'azt', 'ata', 'atb', 'atc', 'atd', 'ate', 'atf', 'atg', 'ath', 'ati', 'atj', 'atk', 'atl', 'atm', 'atn', 'ato', 'atp', 'atq', 'atr', 'ats', 'att', 'atu', 'atv', 'atw', 'atx', 'aty', 'atz']\n",
      "Number of strings output by insert_letter('at') is 78\n"
     ]
    }
   ],
   "source": [
    "insert_l = insert_letter('at', True)\n",
    "print(f\"Number of strings output by insert_letter('at') is {len(insert_l)}\")"
   ]
  },
  {
   "cell_type": "markdown",
   "metadata": {
    "_cell_guid": "78fc3726-e429-4873-837c-2e2744744faa",
    "_uuid": "d8bb934e-5bda-4e63-8b56-28a42a2e08ae"
   },
   "source": [
    "#### Let's combine these individual steps and impliment two function for for editing on or two characters from a word."
   ]
  },
  {
   "cell_type": "code",
   "execution_count": 17,
   "metadata": {
    "_cell_guid": "8a7fca77-dad3-4ffd-82ae-4e67b798e725",
    "_uuid": "20f83bb1-0696-45c5-9d73-25c92e53e466"
   },
   "outputs": [],
   "source": [
    "def edit_one_letter(word, allow_switches = True):\n",
    "    \"\"\"\n",
    "    Input:\n",
    "        word: the string/word for which we will generate all possible wordsthat are one edit away.\n",
    "    Output:\n",
    "        edit_one_set: a set of words with one possible edit. Please return a set. and not a list.\n",
    "    \"\"\"\n",
    "    \n",
    "    edit_one_set = set()\n",
    "    insert_l = insert_letter(word)\n",
    "    delete_l = delete_letter(word)\n",
    "    replace_l = replace_letter(word)\n",
    "    switch_l = switch_letter(word)\n",
    "    \n",
    "    if allow_switches:\n",
    "        ans = insert_l + delete_l + replace_l + switch_l\n",
    "    else:\n",
    "        ans = insert_l + delete_l + replace_l\n",
    "        \n",
    "    edit_one_set = set(ans)\n",
    "\n",
    "    return edit_one_set"
   ]
  },
  {
   "cell_type": "code",
   "execution_count": 18,
   "metadata": {
    "_cell_guid": "319241ff-8dde-4c44-8de3-636813289841",
    "_uuid": "862574ab-c289-454f-8fe8-300c12669eeb"
   },
   "outputs": [
    {
     "name": "stdout",
     "output_type": "stream",
     "text": [
      "input word : at \n",
      "edit_one_l \n",
      "['a', 'aa', 'aat', 'ab', 'abt', 'ac', 'act', 'ad', 'adt', 'ae', 'aet', 'af', 'aft', 'ag', 'agt', 'ah', 'aht', 'ai', 'ait', 'aj', 'ajt', 'ak', 'akt', 'al', 'alt', 'am', 'amt', 'an', 'ant', 'ao', 'aot', 'ap', 'apt', 'aq', 'aqt', 'ar', 'art', 'as', 'ast', 'ata', 'atb', 'atc', 'atd', 'ate', 'atf', 'atg', 'ath', 'ati', 'atj', 'atk', 'atl', 'atm', 'atn', 'ato', 'atp', 'atq', 'atr', 'ats', 'att', 'atu', 'atv', 'atw', 'atx', 'aty', 'atz', 'au', 'aut', 'av', 'avt', 'aw', 'awt', 'ax', 'axt', 'ay', 'ayt', 'az', 'azt', 'bat', 'bt', 'cat', 'ct', 'dat', 'dt', 'eat', 'et', 'fat', 'ft', 'gat', 'gt', 'hat', 'ht', 'iat', 'it', 'jat', 'jt', 'kat', 'kt', 'lat', 'lt', 'mat', 'mt', 'nat', 'nt', 'oat', 'ot', 'pat', 'pt', 'qat', 'qt', 'rat', 'rt', 'sat', 'st', 't', 'ta', 'tat', 'tt', 'uat', 'ut', 'vat', 'vt', 'wat', 'wt', 'xat', 'xt', 'yat', 'yt', 'zat', 'zt']\n",
      "\n",
      "Number of outputs from edit_one_letter('at') is 129\n"
     ]
    }
   ],
   "source": [
    "tmp_word = \"at\"\n",
    "tmp_edit_one_set = edit_one_letter(tmp_word)\n",
    "# turn this into a list to sort it, in order to view it\n",
    "tmp_edit_one_l = sorted(list(tmp_edit_one_set))\n",
    "\n",
    "print(f\"input word : {tmp_word} \\nedit_one_l \\n{tmp_edit_one_l}\\n\")\n",
    "#print(f\"The type of the returned object should be a set {type(tmp_edit_one_set)}\")\n",
    "print(f\"Number of outputs from edit_one_letter('at') is {len(edit_one_letter('at'))}\")"
   ]
  },
  {
   "cell_type": "code",
   "execution_count": 19,
   "metadata": {
    "_cell_guid": "68a082be-6081-4bb5-a159-b676c945d6e1",
    "_uuid": "a75648bc-63fa-427c-a7dc-97a6ed56f4ec"
   },
   "outputs": [],
   "source": [
    "def edit_two_letters(word, allow_switches = True):\n",
    "    '''\n",
    "    Input:\n",
    "        word: the input string/word \n",
    "    Output:\n",
    "        edit_two_set: a set of strings with all possible two edits\n",
    "    '''\n",
    "    \n",
    "    edit_two_set = set()\n",
    "    one_edit = edit_one_letter(word)\n",
    "    ans = []\n",
    "    for w in one_edit:\n",
    "        ans.append(w)\n",
    "        ans.extend(edit_one_letter(w))\n",
    "        \n",
    "    edit_two_set = set(ans)\n",
    "    \n",
    "    return edit_two_set"
   ]
  },
  {
   "cell_type": "code",
   "execution_count": 20,
   "metadata": {
    "_cell_guid": "ef00a090-6609-4648-b1e0-99a2445f8b72",
    "_uuid": "d7ab7d83-10e2-4282-8d86-3679a15bde94"
   },
   "outputs": [
    {
     "name": "stdout",
     "output_type": "stream",
     "text": [
      "Number of strings with edit distance of two: 2654\n",
      "First 10 strings ['', 'a', 'aa', 'aaa', 'aab', 'aac', 'aad', 'aae', 'aaf', 'aag']\n",
      "Last 10 strings ['zv', 'zva', 'zw', 'zwa', 'zx', 'zxa', 'zy', 'zya', 'zz', 'zza']\n",
      "The data type of the returned object should be a set <class 'set'>\n",
      "Number of strings that are 2 edit distances from 'at' is 7154\n"
     ]
    }
   ],
   "source": [
    "tmp_edit_two_set = edit_two_letters(\"a\")\n",
    "tmp_edit_two_l = sorted(list(tmp_edit_two_set))\n",
    "print(f\"Number of strings with edit distance of two: {len(tmp_edit_two_l)}\")\n",
    "print(f\"First 10 strings {tmp_edit_two_l[:10]}\")\n",
    "print(f\"Last 10 strings {tmp_edit_two_l[-10:]}\")\n",
    "print(f\"The data type of the returned object should be a set {type(tmp_edit_two_set)}\")\n",
    "print(f\"Number of strings that are 2 edit distances from 'at' is {len(edit_two_letters('at'))}\")"
   ]
  },
  {
   "cell_type": "markdown",
   "metadata": {
    "_cell_guid": "149b2f48-5586-4398-95bf-9d2944cdd409",
    "_uuid": "3faa34f7-c566-4606-8684-f13caf408bea"
   },
   "source": [
    "We have the second part implimented and it is working pretty well."
   ]
  },
  {
   "cell_type": "markdown",
   "metadata": {
    "_cell_guid": "fc712ba8-3324-4349-a77d-708dd182765e",
    "_uuid": "8cccb753-4a5a-4f09-ac7a-2c300364af17"
   },
   "source": [
    "### Architecture Part 3 : (Probability Distribution)\n",
    "\n",
    "We'll calculate the frequecies of each word using the corpus that we have. Then we'll divide each frequencies by word count to find the probabilities."
   ]
  },
  {
   "cell_type": "code",
   "execution_count": 21,
   "metadata": {
    "_cell_guid": "eeea77bb-36e4-4026-be5a-475b7173b0c7",
    "_uuid": "f0ae3f71-ba6d-4e24-b030-d19d35b0f857"
   },
   "outputs": [],
   "source": [
    "def get_count(word_l):\n",
    "    '''\n",
    "    Input:\n",
    "        word_l: a set of words representing the corpus. \n",
    "    Output:\n",
    "        word_count_dict: The wordcount dictionary where key is the word and value is its frequency.\n",
    "    '''\n",
    "    word_count_dict = {}  \n",
    "    word_count_dict = Counter(word_l)\n",
    "    return word_count_dict"
   ]
  },
  {
   "cell_type": "code",
   "execution_count": 22,
   "metadata": {
    "_cell_guid": "70be75dd-3dcf-48e8-a90a-0c297f3d5217",
    "_uuid": "b4adfb36-4f1d-42c5-ad3b-0a9ef1fa8584"
   },
   "outputs": [
    {
     "name": "stdout",
     "output_type": "stream",
     "text": [
      "There are 3086 key values pairs\n",
      "The count for the word 'thee' is 162\n"
     ]
    }
   ],
   "source": [
    "word_count_dict = get_count(word_l)\n",
    "print(f\"There are {len(word_count_dict)} key values pairs\")\n",
    "print(f\"The count for the word 'thee' is {word_count_dict.get('thee',0)}\")"
   ]
  },
  {
   "cell_type": "code",
   "execution_count": 23,
   "metadata": {
    "_cell_guid": "1e9a34b7-e3bd-461f-8ab8-28996863f843",
    "_uuid": "f93a1215-e1ba-485d-9c16-6706aa873044"
   },
   "outputs": [],
   "source": [
    "def get_probs(word_count_dict):\n",
    "    '''\n",
    "    Input:\n",
    "        word_count_dict: The wordcount dictionary where key is the word and value is its frequency.\n",
    "    Output:\n",
    "        probs: A dictionary where keys are the words and the values are the probability that a word will occur. \n",
    "    '''\n",
    "    probs = {} \n",
    "    total = 1\n",
    "    for word in word_count_dict.keys():\n",
    "        total = total + word_count_dict[word]\n",
    "        \n",
    "    for word in word_count_dict.keys():\n",
    "        probs[word] = word_count_dict[word]/total\n",
    "    return probs"
   ]
  },
  {
   "cell_type": "code",
   "execution_count": 24,
   "metadata": {
    "_cell_guid": "fbf09122-188b-46f7-964a-4ec061c1b1d1",
    "_uuid": "127655f7-a94a-4bcb-88d4-21e18ae3b8d0"
   },
   "outputs": [
    {
     "name": "stdout",
     "output_type": "stream",
     "text": [
      "Length of probs is 3086\n",
      "P('you') is 0.0062\n"
     ]
    }
   ],
   "source": [
    "probs = get_probs(word_count_dict)\n",
    "print(f\"Length of probs is {len(probs)}\")\n",
    "print(f\"P('you') is {probs['you']:.4f}\")"
   ]
  },
  {
   "cell_type": "markdown",
   "metadata": {
    "_cell_guid": "c74f1f53-2b4d-49be-b3dd-00e82d902cc6",
    "_uuid": "6807bdec-1c46-4edc-93e2-49496d5da68b"
   },
   "source": [
    "Let's look at the probability distribution"
   ]
  },
  {
   "cell_type": "code",
   "execution_count": 25,
   "metadata": {
    "_cell_guid": "f61e91f2-5c3a-423a-95e1-61dcc41adace",
    "_uuid": "d65fd0bb-6f2a-4df9-9797-5488eeb0783e"
   },
   "outputs": [
    {
     "data": {
      "text/html": [
       "<div>\n",
       "<style scoped>\n",
       "    .dataframe tbody tr th:only-of-type {\n",
       "        vertical-align: middle;\n",
       "    }\n",
       "\n",
       "    .dataframe tbody tr th {\n",
       "        vertical-align: top;\n",
       "    }\n",
       "\n",
       "    .dataframe thead th {\n",
       "        text-align: right;\n",
       "    }\n",
       "</style>\n",
       "<table border=\"1\" class=\"dataframe\">\n",
       "  <thead>\n",
       "    <tr style=\"text-align: right;\">\n",
       "      <th></th>\n",
       "      <th>word</th>\n",
       "      <th>probability</th>\n",
       "    </tr>\n",
       "  </thead>\n",
       "  <tbody>\n",
       "    <tr>\n",
       "      <th>1623</th>\n",
       "      <td>broils</td>\n",
       "      <td>0.000056</td>\n",
       "    </tr>\n",
       "    <tr>\n",
       "      <th>417</th>\n",
       "      <td>speechless</td>\n",
       "      <td>0.000111</td>\n",
       "    </tr>\n",
       "    <tr>\n",
       "      <th>2387</th>\n",
       "      <td>forests</td>\n",
       "      <td>0.000056</td>\n",
       "    </tr>\n",
       "    <tr>\n",
       "      <th>2114</th>\n",
       "      <td>lean</td>\n",
       "      <td>0.000056</td>\n",
       "    </tr>\n",
       "    <tr>\n",
       "      <th>704</th>\n",
       "      <td>filled</td>\n",
       "      <td>0.000167</td>\n",
       "    </tr>\n",
       "  </tbody>\n",
       "</table>\n",
       "</div>"
      ],
      "text/plain": [
       "            word  probability\n",
       "1623      broils     0.000056\n",
       "417   speechless     0.000111\n",
       "2387     forests     0.000056\n",
       "2114        lean     0.000056\n",
       "704       filled     0.000167"
      ]
     },
     "execution_count": 25,
     "metadata": {},
     "output_type": "execute_result"
    }
   ],
   "source": [
    "prob_df = pd.DataFrame({'word':probs.keys(), 'probability':probs.values()}).sort_values(by='probability', ascending=False)\n",
    "prob_df.sample(5)"
   ]
  },
  {
   "cell_type": "code",
   "execution_count": 26,
   "metadata": {
    "_cell_guid": "8b97ce74-8cf4-4a1e-8c7d-3efbf4e5fa72",
    "_uuid": "03fa7a2e-29f0-4509-b76a-50d2dac22fab"
   },
   "outputs": [
    {
     "data": {
      "text/plain": [
       "<AxesSubplot:xlabel='word'>"
      ]
     },
     "execution_count": 26,
     "metadata": {},
     "output_type": "execute_result"
    },
    {
     "data": {
      "image/png": "[encoded data removed]",
      "text/plain": [
       "<Figure size 432x288 with 1 Axes>"
      ]
     },
     "metadata": {
      "needs_background": "light"
     },
     "output_type": "display_data"
    }
   ],
   "source": [
    "prob_df.head().plot.bar(x='word', y='probability')"
   ]
  },
  {
   "cell_type": "markdown",
   "metadata": {
    "_cell_guid": "29302848-b19e-4070-8031-916315f9ff74",
    "_uuid": "2382e3af-64bd-48e7-919a-1ed8f71bf8d3"
   },
   "source": [
    "Looks as expected! When we'll used larger corpus then we'll have more accurate probabilities."
   ]
  },
  {
   "cell_type": "markdown",
   "metadata": {
    "_cell_guid": "a01fabfa-68c8-48ac-9118-208e6e33cdce",
    "_uuid": "be2dfcf6-5b2c-4b49-bdc9-c6fa5b6fe2a2"
   },
   "source": [
    "### Architecture Part 4 : (Replace Misspells with correction)"
   ]
  },
  {
   "cell_type": "code",
   "execution_count": 27,
   "metadata": {
    "_cell_guid": "c56ee50c-f87b-4fe8-b143-7ed6bcb53171",
    "_uuid": "93c61764-5114-443a-bbf2-7302bbc0a580"
   },
   "outputs": [],
   "source": [
    "def get_corrections(word, probs, vocab, n=2, verbose = False):\n",
    "    '''\n",
    "    Input: \n",
    "        word: a user entered string to check for suggestions\n",
    "        probs: a dictionary that maps each word to its probability in the corpus\n",
    "        vocab: a set containing all the vocabulary\n",
    "        n: number of possible word corrections you want returned in the dictionary\n",
    "    Output: \n",
    "        n_best: a list of tuples with the most probable n corrected words and their probabilities.\n",
    "    '''\n",
    "    \n",
    "    suggestions = []\n",
    "    n_best = []\n",
    "    \n",
    "   \n",
    "    if word in probs.keys():\n",
    "        suggestions.append(word)\n",
    "    for w in edit_one_letter(word):\n",
    "        if len(suggestions) == n:\n",
    "            break\n",
    "        if w in probs.keys():\n",
    "            suggestions.append(w)\n",
    "    for w in edit_two_letters(word):\n",
    "        if len(suggestions) == n:\n",
    "            break\n",
    "        if w in probs.keys():\n",
    "            suggestions.append(w)\n",
    "        \n",
    "    best_words = {}\n",
    "    \n",
    "    for s in suggestions:\n",
    "        best_words[s] = probs[s]\n",
    "        \n",
    "    best_words = sorted(best_words.items(), key=lambda x: x[1], reverse=True)\n",
    "    \n",
    "    n_best = best_words \n",
    "    \n",
    "    if verbose: print(\"entered word = \", word, \"\\nsuggestions = \", suggestions)\n",
    "\n",
    "    return n_best"
   ]
  },
  {
   "cell_type": "code",
   "execution_count": 28,
   "metadata": {
    "_cell_guid": "f7b5bb43-9f88-4c1d-a3f5-4eeb6dd0ab19",
    "_uuid": "e7e5f53e-64cc-4f91-adaf-2c9719d00444"
   },
   "outputs": [],
   "source": [
    "def get_correct_word(word, vocab, probs): \n",
    "    corrections = get_corrections(word, probs, vocab, 5, verbose=False)\n",
    "    #print(corrections)\n",
    "    if len(corrections) == 0:\n",
    "        return word\n",
    "    \n",
    "    final_word = corrections[0][0]\n",
    "    final_prob = corrections[0][1]\n",
    "    for i, word_prob in enumerate(corrections):\n",
    "        #print(f\"word {i}: {word_prob[0]}, probability {word_prob[1]:.6f}\")\n",
    "        if word_prob[1] > final_prob:\n",
    "            final_word = word_prob[0]\n",
    "            final_prob = word_prob[1]\n",
    "    return final_word"
   ]
  },
  {
   "cell_type": "code",
   "execution_count": 29,
   "metadata": {
    "_cell_guid": "2a63b515-0dd5-4910-84c3-8ace7ef624d0",
    "_uuid": "146deb16-036e-453e-8cd7-545bb0dd9891"
   },
   "outputs": [
    {
     "data": {
      "text/plain": [
       "'eye'"
      ]
     },
     "execution_count": 29,
     "metadata": {},
     "output_type": "execute_result"
    }
   ],
   "source": [
    "get_correct_word('dys', vocab, probs)"
   ]
  },
  {
   "cell_type": "markdown",
   "metadata": {
    "_cell_guid": "f3184d38-7dc0-4cea-875f-f5fb2d1dd29a",
    "_uuid": "6de4c543-9f2e-488a-823f-5e54bb6ecc3f"
   },
   "source": [
    "#### All Done!! Let's wrap up everything!"
   ]
  },
  {
   "cell_type": "code",
   "execution_count": 30,
   "metadata": {
    "_cell_guid": "e8b7d44e-bc4e-485a-bc68-1912b4d0b178",
    "_uuid": "91b33868-98ec-40a1-9e8c-33a7a3bea556"
   },
   "outputs": [],
   "source": [
    "def autocorrect(sentence, vocab, probs):\n",
    "    print(\"Input sentence : \", sentence)\n",
    "    wrong_words = find_wrong_word(sentence, vocab)\n",
    "    #print(wrong_words)\n",
    "    correct_words = []\n",
    "    for word in sentence.strip().lower().split(\" \"):\n",
    "        if word in wrong_words:\n",
    "            correct_word = get_correct_word(word, vocab, probs)\n",
    "            #print(word, correct_word)\n",
    "            word = correct_word\n",
    "        correct_words.append(word)\n",
    "    print(\"Output Sentence : \", \" \".join(correct_words))"
   ]
  },
  {
   "cell_type": "markdown",
   "metadata": {
    "_cell_guid": "18d14e9d-69c7-47fd-ab20-fd646b16964f",
    "_uuid": "e0aa2bef-f968-4b03-8b7b-1bd3ebc7bdee"
   },
   "source": [
    "## Demo\n",
    "\n",
    "Let's check this system on some examples"
   ]
  },
  {
   "cell_type": "code",
   "execution_count": 31,
   "metadata": {
    "_cell_guid": "2b1c468e-c86c-46a7-b2d7-f2dd15f1b3cf",
    "_uuid": "de3b663f-f476-4001-b384-eeb4ca01c631"
   },
   "outputs": [
    {
     "name": "stdout",
     "output_type": "stream",
     "text": [
      "Input sentence :  I was on hime\n",
      "Output Sentence :  i was on time\n"
     ]
    }
   ],
   "source": [
    "autocorrect(\"I was on hime\", vocab, probs)"
   ]
  },
  {
   "cell_type": "code",
   "execution_count": 32,
   "metadata": {
    "_cell_guid": "13f9bb6c-8f64-4ded-8797-bc66e199e6d6",
    "_uuid": "465fc0f4-2b61-4599-afcb-426892e57c2c"
   },
   "outputs": [
    {
     "name": "stdout",
     "output_type": "stream",
     "text": [
      "Input sentence :  Lerning is tha best\n",
      "Output Sentence :  learning is the best\n"
     ]
    }
   ],
   "source": [
    "autocorrect(\"Lerning is tha best\", vocab, probs)"
   ]
  },
  {
   "cell_type": "code",
   "execution_count": 33,
   "metadata": {
    "_cell_guid": "d83356e7-1e93-43ec-8f62-41b2d5ea5e5f",
    "_uuid": "33daf857-6695-463f-be49-e5b3549dde04"
   },
   "outputs": [
    {
     "name": "stdout",
     "output_type": "stream",
     "text": [
      "Input sentence :  life iis a drink annd lave is a drung\n",
      "Output Sentence :  life is a drink and have is a doing\n"
     ]
    }
   ],
   "source": [
    "autocorrect(\"life iis a drink annd lave is a drung\", vocab, probs)"
   ]
  },
  {
   "cell_type": "markdown",
   "metadata": {
    "_cell_guid": "40e59d8d-833b-447a-90ef-5e0558390485",
    "_uuid": "c242318b-e269-435f-bdcc-8ae7d50c3863"
   },
   "source": [
    "### We can see that it is working!\n",
    "\n",
    "This gives a overview of what auto-correct systems are and how they work.\n",
    "\n",
    "Note - This is very simplified architecture compared to what is used in reality. You can see in the last example's output isn't good.\n",
    "\n",
    "#### Drawbacks \n",
    "- It has fixed outcome. i.e. 'hime' will be converted to 'time' only not 'home' oe anything else.\n",
    "- It is solely based on frequency of words in the corpus\n",
    "- Doesn't care about the contex.\n",
    "- Can't suggest something which is not in the vocabulary\n",
    "\n",
    "#### Improvements\n",
    "- It can be further improved by introducing bi-gram probabilities. Hence, it will get some inference from previous words.\n",
    "- The suggestions that are less distance away from the misspelled word are more likely. Hence, the system can be further improved by introducing dynamic programming based min edit distance functionality.\n",
    "\n",
    "Let's implement these improvements."
   ]
  },
  {
   "cell_type": "markdown",
   "metadata": {},
   "source": [
    "<hr>\n",
    "\n",
    "## Improvement 1 : Introducing n-gram probabilities to get context from previous words"
   ]
  },
  {
   "cell_type": "markdown",
   "metadata": {},
   "source": [
    "This idea is taken from the n-grams language models. In a n-gram language model\n",
    "- Assume the probability of the next word depends only on the previous n-gram.\n",
    "- The previous n-gram is the series of the previous 'n' words.\n",
    "\n",
    "The conditional probability for the word at position 't' in the sentence, given that the words preceding it are $w_{t-1}, w_{t-2} \\cdots w_{t-n}$ is:\n",
    "\n",
    "$$ P(w_t | w_{t-1}\\dots w_{t-n}) \\tag{1}$$\n",
    "\n",
    "This probability cab be estimated by counting the occurrences of these series of words in the training data.\n",
    "- The probability can be estimated as a ratio, where\n",
    "- The numerator is the number of times word 't' appears after words t-1 through t-n appear in the training data.\n",
    "- The denominator is the number of times word t-1 through t-n appears in the training data.\n",
    "\n",
    "$$ \\hat{P}(w_t | w_{t-1}\\dots w_{t-n}) = \\frac{C(w_{t-1}\\dots w_{t-n}, w_n)}{C(w_{t-1}\\dots w_{t-n})} \\tag{2} $$\n",
    "\n",
    "In other words, to estimate probabilities based on n-grams, first find the counts of n-grams (for denominator) then divide it by the count of (n+1)-grams (for numerator).\n",
    "\n",
    "- The function $C(\\cdots)$ denotes the number of occurence of the given sequence. \n",
    "- $\\hat{P}$ means the estimation of $P$. \n",
    "- The denominator of the above equation is the number of occurence of the previous $n$ words, and the numerator is the same sequence followed by the word $w_t$."
   ]
  },
  {
   "cell_type": "markdown",
   "metadata": {},
   "source": [
    "Now the issue with above formula is that it doesn't work when a count of an n-gram is zero..\n",
    "- Suppose we encounter an n-gram that did not occur in the training data.  \n",
    "- Then, the equation (2) cannot be evaluated (it becomes zero divided by zero).\n",
    "\n",
    "A way to handle zero counts is to add k-smoothing.  \n",
    "- K-smoothing adds a positive constant $k$ to each numerator and $k \\times |V|$ in the denominator, where $|V|$ is the number of words in the vocabulary.\n",
    "\n",
    "$$ \\hat{P}(w_t | w_{t-1}\\dots w_{t-n}) = \\frac{C(w_{t-1}\\dots w_{t-n}, w_n) + k}{C(w_{t-1}\\dots w_{t-n}) + k|V|} \\tag{3} $$\n",
    "\n",
    "\n",
    "For n-grams that have a zero count, the equation (3) becomes $\\frac{1}{|V|}$.\n",
    "- This means that any n-gram with zero count has the same probability of $\\frac{1}{|V|}$.\n",
    "\n",
    "Now, let's define a function that computes the probability estimate (3) from n-gram counts and a constant $k$."
   ]
  },
  {
   "cell_type": "code",
   "execution_count": 34,
   "metadata": {},
   "outputs": [],
   "source": [
    "def count_n_grams(data, n, start_token='<s>', end_token = '<e>'):\n",
    "    \n",
    "    # Initialize dictionary of n-grams and their counts\n",
    "    n_grams = {}\n",
    "\n",
    "    \n",
    "    for sentence in data: \n",
    "        \n",
    "        # prepend start token n times, and  append <e> one time\n",
    "        sentence = [start_token]*n + sentence + [end_token]\n",
    "        sentence = tuple(sentence)\n",
    "        \n",
    "        for i in range(len(sentence)-n): \n",
    "            n_gram = sentence[i:i+n]\n",
    "            if n_gram in n_grams.keys():\n",
    "                n_grams[n_gram] += 1\n",
    "            else:\n",
    "                n_grams[n_gram] = 1\n",
    "    return n_grams"
   ]
  },
  {
   "cell_type": "code",
   "execution_count": 35,
   "metadata": {},
   "outputs": [],
   "source": [
    "def make_count_matrix(n_plus1_gram_counts, vocabulary):\n",
    "    # add <e> <unk> to the vocabulary\n",
    "    # <s> is omitted since it should not appear as the next word\n",
    "    vocabulary = vocabulary + [\"<e>\", \"<unk>\"]\n",
    "    \n",
    "    # obtain unique n-grams\n",
    "    n_grams = []\n",
    "    for n_plus1_gram in n_plus1_gram_counts.keys():\n",
    "        n_gram = n_plus1_gram[0:-1]\n",
    "        n_grams.append(n_gram)\n",
    "    n_grams = list(set(n_grams))\n",
    "    \n",
    "    # mapping from n-gram to row\n",
    "    row_index = {n_gram:i for i, n_gram in enumerate(n_grams)}\n",
    "    # mapping from next word to column\n",
    "    col_index = {word:j for j, word in enumerate(vocabulary)}\n",
    "    \n",
    "    nrow = len(n_grams)\n",
    "    ncol = len(vocabulary)\n",
    "    count_matrix = np.zeros((nrow, ncol))\n",
    "    for n_plus1_gram, count in n_plus1_gram_counts.items():\n",
    "        n_gram = n_plus1_gram[0:-1]\n",
    "        word = n_plus1_gram[-1]\n",
    "        if word not in vocabulary:\n",
    "            continue\n",
    "        i = row_index[n_gram]\n",
    "        j = col_index[word]\n",
    "        count_matrix[i, j] = count\n",
    "    \n",
    "    count_matrix = pd.DataFrame(count_matrix, index=n_grams, columns=vocabulary)\n",
    "    return count_matrix"
   ]
  },
  {
   "cell_type": "code",
   "execution_count": 36,
   "metadata": {},
   "outputs": [],
   "source": [
    "def make_probability_matrix(n_plus1_gram_counts, unique_words, k):\n",
    "    count_matrix = make_count_matrix(n_plus1_gram_counts, unique_words)\n",
    "    count_matrix += k\n",
    "    prob_matrix = count_matrix.div(count_matrix.sum(axis=1), axis=0)\n",
    "    return prob_matrix"
   ]
  },
  {
   "cell_type": "code",
   "execution_count": 37,
   "metadata": {},
   "outputs": [],
   "source": [
    "### SOME UTILITY\n",
    "\n",
    "def split_to_sentences(data):\n",
    "    #sentences = data.split(\"\\n\")\n",
    "    sentences = [s.strip() for s in data]\n",
    "    sentences = [s for s in sentences if len(s) > 0]\n",
    "    return sentences    \n",
    "\n",
    "def tokenize_sentences(sentences):\n",
    "    tokenized_sentences = []\n",
    "    for sentence in sentences:\n",
    "        sentence = sentence.lower()\n",
    "        tokenized = nltk.tokenize.word_tokenize(sentence)\n",
    "        tokenized_sentences.append(tokenized)\n",
    "    return tokenized_sentences\n",
    "\n",
    "\n",
    "def get_tokenized_data(data):\n",
    "    sentences = split_to_sentences(data)\n",
    "    tokenized_sentences = tokenize_sentences(sentences)\n",
    "    return tokenized_sentences"
   ]
  },
  {
   "cell_type": "code",
   "execution_count": 38,
   "metadata": {},
   "outputs": [
    {
     "data": {
      "text/html": [
       "<div>\n",
       "<style scoped>\n",
       "    .dataframe tbody tr th:only-of-type {\n",
       "        vertical-align: middle;\n",
       "    }\n",
       "\n",
       "    .dataframe tbody tr th {\n",
       "        vertical-align: top;\n",
       "    }\n",
       "\n",
       "    .dataframe thead th {\n",
       "        text-align: right;\n",
       "    }\n",
       "</style>\n",
       "<table border=\"1\" class=\"dataframe\">\n",
       "  <thead>\n",
       "    <tr style=\"text-align: right;\">\n",
       "      <th></th>\n",
       "      <th>mother</th>\n",
       "      <th>broken</th>\n",
       "      <th>saw</th>\n",
       "      <th>couldst</th>\n",
       "      <th>moment</th>\n",
       "      <th>dost</th>\n",
       "      <th>here</th>\n",
       "      <th>desiring</th>\n",
       "      <th>furrows</th>\n",
       "      <th>crying</th>\n",
       "      <th>...</th>\n",
       "      <th>that</th>\n",
       "      <th>reproving</th>\n",
       "      <th>dreaming</th>\n",
       "      <th>seasoned</th>\n",
       "      <th>calls</th>\n",
       "      <th>bound</th>\n",
       "      <th>maturity</th>\n",
       "      <th>indirectly</th>\n",
       "      <th>&lt;e&gt;</th>\n",
       "      <th>&lt;unk&gt;</th>\n",
       "    </tr>\n",
       "  </thead>\n",
       "  <tbody>\n",
       "    <tr>\n",
       "      <th>(hides,)</th>\n",
       "      <td>0.000324</td>\n",
       "      <td>0.000324</td>\n",
       "      <td>0.000324</td>\n",
       "      <td>0.000324</td>\n",
       "      <td>0.000324</td>\n",
       "      <td>0.000324</td>\n",
       "      <td>0.000324</td>\n",
       "      <td>0.000324</td>\n",
       "      <td>0.000324</td>\n",
       "      <td>0.000324</td>\n",
       "      <td>...</td>\n",
       "      <td>0.000324</td>\n",
       "      <td>0.000324</td>\n",
       "      <td>0.000324</td>\n",
       "      <td>0.000324</td>\n",
       "      <td>0.000324</td>\n",
       "      <td>0.000324</td>\n",
       "      <td>0.000324</td>\n",
       "      <td>0.000324</td>\n",
       "      <td>0.000324</td>\n",
       "      <td>0.000324</td>\n",
       "    </tr>\n",
       "    <tr>\n",
       "      <th>(send,)</th>\n",
       "      <td>0.000324</td>\n",
       "      <td>0.000324</td>\n",
       "      <td>0.000324</td>\n",
       "      <td>0.000324</td>\n",
       "      <td>0.000324</td>\n",
       "      <td>0.000324</td>\n",
       "      <td>0.000324</td>\n",
       "      <td>0.000324</td>\n",
       "      <td>0.000324</td>\n",
       "      <td>0.000324</td>\n",
       "      <td>...</td>\n",
       "      <td>0.000324</td>\n",
       "      <td>0.000324</td>\n",
       "      <td>0.000324</td>\n",
       "      <td>0.000324</td>\n",
       "      <td>0.000324</td>\n",
       "      <td>0.000324</td>\n",
       "      <td>0.000324</td>\n",
       "      <td>0.000324</td>\n",
       "      <td>0.000324</td>\n",
       "      <td>0.000324</td>\n",
       "    </tr>\n",
       "    <tr>\n",
       "      <th>(stealing,)</th>\n",
       "      <td>0.000324</td>\n",
       "      <td>0.000324</td>\n",
       "      <td>0.000324</td>\n",
       "      <td>0.000324</td>\n",
       "      <td>0.000324</td>\n",
       "      <td>0.000324</td>\n",
       "      <td>0.000324</td>\n",
       "      <td>0.000324</td>\n",
       "      <td>0.000324</td>\n",
       "      <td>0.000324</td>\n",
       "      <td>...</td>\n",
       "      <td>0.000324</td>\n",
       "      <td>0.000324</td>\n",
       "      <td>0.000324</td>\n",
       "      <td>0.000324</td>\n",
       "      <td>0.000324</td>\n",
       "      <td>0.000324</td>\n",
       "      <td>0.000324</td>\n",
       "      <td>0.000324</td>\n",
       "      <td>0.000324</td>\n",
       "      <td>0.000324</td>\n",
       "    </tr>\n",
       "    <tr>\n",
       "      <th>(count,)</th>\n",
       "      <td>0.000324</td>\n",
       "      <td>0.000324</td>\n",
       "      <td>0.000324</td>\n",
       "      <td>0.000324</td>\n",
       "      <td>0.000324</td>\n",
       "      <td>0.000324</td>\n",
       "      <td>0.000324</td>\n",
       "      <td>0.000324</td>\n",
       "      <td>0.000324</td>\n",
       "      <td>0.000324</td>\n",
       "      <td>...</td>\n",
       "      <td>0.000324</td>\n",
       "      <td>0.000324</td>\n",
       "      <td>0.000324</td>\n",
       "      <td>0.000324</td>\n",
       "      <td>0.000324</td>\n",
       "      <td>0.000324</td>\n",
       "      <td>0.000324</td>\n",
       "      <td>0.000324</td>\n",
       "      <td>0.000324</td>\n",
       "      <td>0.000324</td>\n",
       "    </tr>\n",
       "    <tr>\n",
       "      <th>(sheds,)</th>\n",
       "      <td>0.000324</td>\n",
       "      <td>0.000324</td>\n",
       "      <td>0.000324</td>\n",
       "      <td>0.000324</td>\n",
       "      <td>0.000324</td>\n",
       "      <td>0.000324</td>\n",
       "      <td>0.000324</td>\n",
       "      <td>0.000324</td>\n",
       "      <td>0.000324</td>\n",
       "      <td>0.000324</td>\n",
       "      <td>...</td>\n",
       "      <td>0.000324</td>\n",
       "      <td>0.000324</td>\n",
       "      <td>0.000324</td>\n",
       "      <td>0.000324</td>\n",
       "      <td>0.000324</td>\n",
       "      <td>0.000324</td>\n",
       "      <td>0.000324</td>\n",
       "      <td>0.000324</td>\n",
       "      <td>0.000324</td>\n",
       "      <td>0.000324</td>\n",
       "    </tr>\n",
       "  </tbody>\n",
       "</table>\n",
       "<p>5 rows × 3088 columns</p>\n",
       "</div>"
      ],
      "text/plain": [
       "               mother    broken       saw   couldst    moment      dost  \\\n",
       "(hides,)     0.000324  0.000324  0.000324  0.000324  0.000324  0.000324   \n",
       "(send,)      0.000324  0.000324  0.000324  0.000324  0.000324  0.000324   \n",
       "(stealing,)  0.000324  0.000324  0.000324  0.000324  0.000324  0.000324   \n",
       "(count,)     0.000324  0.000324  0.000324  0.000324  0.000324  0.000324   \n",
       "(sheds,)     0.000324  0.000324  0.000324  0.000324  0.000324  0.000324   \n",
       "\n",
       "                 here  desiring   furrows    crying  ...      that  reproving  \\\n",
       "(hides,)     0.000324  0.000324  0.000324  0.000324  ...  0.000324   0.000324   \n",
       "(send,)      0.000324  0.000324  0.000324  0.000324  ...  0.000324   0.000324   \n",
       "(stealing,)  0.000324  0.000324  0.000324  0.000324  ...  0.000324   0.000324   \n",
       "(count,)     0.000324  0.000324  0.000324  0.000324  ...  0.000324   0.000324   \n",
       "(sheds,)     0.000324  0.000324  0.000324  0.000324  ...  0.000324   0.000324   \n",
       "\n",
       "             dreaming  seasoned     calls     bound  maturity  indirectly  \\\n",
       "(hides,)     0.000324  0.000324  0.000324  0.000324  0.000324    0.000324   \n",
       "(send,)      0.000324  0.000324  0.000324  0.000324  0.000324    0.000324   \n",
       "(stealing,)  0.000324  0.000324  0.000324  0.000324  0.000324    0.000324   \n",
       "(count,)     0.000324  0.000324  0.000324  0.000324  0.000324    0.000324   \n",
       "(sheds,)     0.000324  0.000324  0.000324  0.000324  0.000324    0.000324   \n",
       "\n",
       "                  <e>     <unk>  \n",
       "(hides,)     0.000324  0.000324  \n",
       "(send,)      0.000324  0.000324  \n",
       "(stealing,)  0.000324  0.000324  \n",
       "(count,)     0.000324  0.000324  \n",
       "(sheds,)     0.000324  0.000324  \n",
       "\n",
       "[5 rows x 3088 columns]"
      ]
     },
     "execution_count": 38,
     "metadata": {},
     "output_type": "execute_result"
    }
   ],
   "source": [
    "tokenized_data = get_tokenized_data(file)\n",
    "bigram_counts = count_n_grams(tokenized_data, 2)\n",
    "vocab = list(set(vocab))\n",
    "bigram_probability_df = make_probability_matrix(bigram_counts, vocab, k=1)\n",
    "bigram_probability_df.head()"
   ]
  },
  {
   "cell_type": "markdown",
   "metadata": {},
   "source": [
    "We have the bigram probabilities now we'll update our get_correction function to incorporate the changes.\n",
    "\n",
    "We won't be ignoring the unigram probabilities completely instead we will assing weights to unigram and bigram. i.e. \n",
    "\n",
    "> final_score = unigram_weight*unigram_prob + bigram_weight*bigram_prob"
   ]
  },
  {
   "cell_type": "code",
   "execution_count": 39,
   "metadata": {},
   "outputs": [],
   "source": [
    "def get_corrections_bigram(word, prev_word, probs, vocab, bigram_probability_df, unigram_weight=0.3, bigram_weight=0.7, n=5, verbose = False):\n",
    "    '''\n",
    "    Input: \n",
    "        word: a user entered string to check for suggestions\n",
    "        probs: a dictionary that maps each word to its probability in the corpus\n",
    "        vocab: a set containing all the vocabulary\n",
    "        n: number of possible word corrections you want returned in the dictionary\n",
    "    Output: \n",
    "        n_best: a list of tuples with the most probable n corrected words and their probabilities.\n",
    "    '''\n",
    "    \n",
    "    suggestions = []\n",
    "    n_best = []\n",
    "    \n",
    "   \n",
    "    if word in probs.keys():\n",
    "        suggestions.append(word)\n",
    "    for w in edit_one_letter(word):\n",
    "        if len(suggestions) == n:\n",
    "            break\n",
    "        if w in probs.keys():\n",
    "            suggestions.append(w)\n",
    "    for w in edit_two_letters(word):\n",
    "        if len(suggestions) == n:\n",
    "            break\n",
    "        if w in probs.keys():\n",
    "            suggestions.append(w)\n",
    "            \n",
    "            \n",
    "    ##### Probabilities for suggestions\n",
    "    try:\n",
    "        bigram_df_row_index = bigram_probability_df.index.tolist().index(tuple([prev_word]))\n",
    "        bigram_df_row = bigram_probability_df.iloc[bigram_df_row_index]\n",
    "    except:\n",
    "        bigram_df_row = []\n",
    "    #print(bigram_df_row)\n",
    "        \n",
    "    best_words = {}\n",
    "    \n",
    "    for s in suggestions:\n",
    "        #best_words[s] = probs[s]\n",
    "        unigram_prob = probs[s]\n",
    "        #print(s)\n",
    "        if s in bigram_df_row:\n",
    "            bigram_prob = bigram_df_row[s]\n",
    "        else:\n",
    "            bigram_prob = 0\n",
    "        \n",
    "        final_score = unigram_weight*unigram_prob + bigram_weight*bigram_prob\n",
    "        \n",
    "        best_words[s] = final_score     \n",
    "        \n",
    "    best_words = sorted(best_words.items(), key=lambda x: x[1], reverse=True)\n",
    "    \n",
    "    n_best = best_words \n",
    "    \n",
    "    if verbose: print(\"entered word = \", word, \"\\nsuggestions = \", suggestions)\n",
    "\n",
    "    return n_best"
   ]
  },
  {
   "cell_type": "code",
   "execution_count": 40,
   "metadata": {},
   "outputs": [],
   "source": [
    "def get_correct_word_bigram(word, prev_word, probs, vocab, bigram_probability_df, unigram_weight, bigram_weight, n): \n",
    "    corrections = get_corrections_bigram(word, prev_word, probs, vocab, \n",
    "                                         bigram_probability_df, unigram_weight, bigram_weight, n, verbose=False)\n",
    "    #print(corrections)\n",
    "    if len(corrections) == 0:\n",
    "        return word\n",
    "    \n",
    "    final_word = corrections[0][0]\n",
    "    final_prob = corrections[0][1]\n",
    "    for i, word_prob in enumerate(corrections):\n",
    "        #print(f\"word {i}: {word_prob[0]}, probability {word_prob[1]:.6f}\")\n",
    "        if word_prob[1] > final_prob:\n",
    "            final_word = word_prob[0]\n",
    "            final_prob = word_prob[1]\n",
    "    return final_word"
   ]
  },
  {
   "cell_type": "code",
   "execution_count": 41,
   "metadata": {},
   "outputs": [],
   "source": [
    "def autocorrect_bigram(sentence, vocab, probs, bigram_probability_df):\n",
    "    print(\"Input sentence : \", sentence)\n",
    "    wrong_words = find_wrong_word(sentence, vocab)\n",
    "    #print(wrong_words)\n",
    "    correct_words = []\n",
    "    word_list = sentence.strip().lower().split(\" \")\n",
    "    for i, word in enumerate(word_list):\n",
    "        #print(i, word)\n",
    "        \n",
    "        #### Previous word\n",
    "        if i==0:\n",
    "            prev_word = '<s>'\n",
    "        else:\n",
    "            prev_word = word_list[i-1]\n",
    "            \n",
    "        if word in wrong_words:\n",
    "            correct_word = get_correct_word_bigram(word, prev_word, probs, vocab, bigram_probability_df, 0.3, 0.7, 10)\n",
    "            #print(word, correct_word)\n",
    "            word = correct_word\n",
    "        correct_words.append(word)\n",
    "    print(\"Output Sentence : \", \" \".join(correct_words).capitalize())"
   ]
  },
  {
   "cell_type": "markdown",
   "metadata": {},
   "source": [
    "### Demo"
   ]
  },
  {
   "cell_type": "code",
   "execution_count": 42,
   "metadata": {},
   "outputs": [
    {
     "name": "stdout",
     "output_type": "stream",
     "text": [
      "Input sentence :  I was on hime\n",
      "Output Sentence :  I was on time\n"
     ]
    }
   ],
   "source": [
    "autocorrect_bigram('I was on hime', vocab, probs, bigram_probability_df)"
   ]
  },
  {
   "cell_type": "markdown",
   "metadata": {},
   "source": [
    "This is also working fine. Now let's implement the next improvement."
   ]
  },
  {
   "cell_type": "markdown",
   "metadata": {},
   "source": [
    "<hr>\n",
    "\n",
    "## Improvement 2 : Introducing min_edit_diatsnce functionality\n",
    "\n",
    "The idea is derived from the intution that the suggestions that are less distance away from the misspelled word are more likely. Hence, the system can be further improved by introducing dynamic programming based min edit distance functionality.\n",
    "\n",
    "So, given a string source[0..i] and a string target[0..j], we will compute all the combinations of substrings[i, j] and calculate their edit distance. To do this efficiently, we will use a table to maintain the previously computed substrings and use those to calculate larger substrings.\n",
    "\n",
    "We'll first create a matrix and update each element in the matrix as follows:"
   ]
  },
  {
   "cell_type": "markdown",
   "metadata": {},
   "source": [
    "$$\\text{Initialization}$$\n",
    "\n",
    "\\begin{align}\n",
    "D[0,0] &= 0 \\\\\n",
    "D[i,0] &= D[i-1,0] + del\\_cost(source[i]) \\\\\n",
    "D[0,j] &= D[0,j-1] + ins\\_cost(target[j]) \\\\\n",
    "\\end{align}"
   ]
  },
  {
   "cell_type": "markdown",
   "metadata": {},
   "source": [
    "$$\\text{Per Cell Operations}$$\n",
    "\\begin{align}\n",
    " \\\\\n",
    "D[i,j] =min\n",
    "\\begin{cases}\n",
    "D[i-1,j] + del\\_cost\\\\\n",
    "D[i,j-1] + ins\\_cost\\\\\n",
    "D[i-1,j-1] + \\left\\{\\begin{matrix}\n",
    "rep\\_cost; & if src[i]\\neq tar[j]\\\\\n",
    "0 ; & if src[i]=tar[j]\n",
    "\\end{matrix}\\right.\n",
    "\\end{cases}\n",
    "\\end{align}"
   ]
  },
  {
   "cell_type": "code",
   "execution_count": 43,
   "metadata": {},
   "outputs": [],
   "source": [
    "def min_edit_distance(source, target, ins_cost = 1, del_cost = 1, rep_cost = 2):\n",
    "    '''\n",
    "    Input: \n",
    "        source: a string corresponding to the string you are starting with\n",
    "        target: a string corresponding to the string you want to end with\n",
    "        ins_cost: an integer setting the insert cost\n",
    "        del_cost: an integer setting the delete cost\n",
    "        rep_cost: an integer setting the replace cost\n",
    "    Output:\n",
    "        D: a matrix of len(source)+1 by len(target)+1 containing minimum edit distances\n",
    "        med: the minimum edit distance (med) required to convert the source string to the target\n",
    "    '''\n",
    "    \n",
    "    m = len(source) \n",
    "    n = len(target) \n",
    "    #initialize cost matrix with zeros and dimensions (m+1,n+1) \n",
    "    D = np.zeros((m+1, n+1), dtype=int) \n",
    "    \n",
    "    for row in range(1,m+1): \n",
    "        D[row,0] = D[row-1, 0] + del_cost\n",
    "        \n",
    "    for col in range(1,n+1):\n",
    "        D[0,col] = D[0, col-1] + ins_cost\n",
    "        \n",
    "    # Loop through row 1 to row m\n",
    "    for row in range(1,m+1): \n",
    "        # Loop through column 1 to column n\n",
    "        for col in range(1,n+1):\n",
    "            # Intialize r_cost to the 'replace' cost \n",
    "            r_cost = rep_cost\n",
    "            # Check to see if source character at the previous row\n",
    "            # matches the target character at the previous column, \n",
    "            if source[row-1] == target[col-1]:\n",
    "                # Update the replacement cost to 0 if source and target are the same\n",
    "                r_cost = 0\n",
    "            # Update the cost at row, col based on previous entries in the cost matrix\n",
    "            D[row,col] = D[row-1][col-1] + r_cost\n",
    "          \n",
    "    # Set the minimum edit distance with the cost found at row m, column n\n",
    "    med = D[m][n]\n",
    "    \n",
    "    return D, med"
   ]
  },
  {
   "cell_type": "code",
   "execution_count": 44,
   "metadata": {},
   "outputs": [],
   "source": [
    "def get_correct_word_bigram_min_edit(word, prev_word, probs, vocab, bigram_probability_df, unigram_weight, bigram_weight, n, scale_dist): \n",
    "    corrections = get_corrections_bigram(word, prev_word, probs, vocab, \n",
    "                                         bigram_probability_df, unigram_weight, bigram_weight, n, verbose=False)\n",
    "    #print(corrections)\n",
    "    if len(corrections) == 0:\n",
    "        return word\n",
    "    \n",
    "    ### Make a dataframe of suggestions\n",
    "    words = []\n",
    "    probabs = []\n",
    "    dist = []\n",
    "    for pair in corrections:\n",
    "        words.append(pair[0])\n",
    "        probabs.append(pair[1])\n",
    "        _, distance = min_edit_distance(word, pair[0], 1, 1, 2)\n",
    "        dist.append(distance)\n",
    "        \n",
    "    df = pd.DataFrame({'suggestion':words, 'distance':dist, 'probability':probabs})\n",
    "    df['inv_dist'] = df['distance'].apply(lambda x : (1/x)*scale_dist)\n",
    "    df['score'] = df['inv_dist'] + df['probability']\n",
    "    df = df.sort_values(by='score', ascending=False)\n",
    "    #df = df.sort_values(by=['distance', 'probability'], ascending=[True, False])\n",
    "    #display(df)\n",
    "    \n",
    "    final_word = df.iloc[0,0]\n",
    "    \n",
    "    return final_word"
   ]
  },
  {
   "cell_type": "code",
   "execution_count": 45,
   "metadata": {},
   "outputs": [
    {
     "data": {
      "text/plain": [
       "'time'"
      ]
     },
     "execution_count": 45,
     "metadata": {},
     "output_type": "execute_result"
    }
   ],
   "source": [
    "get_correct_word_bigram_min_edit('hime', 'told', probs, vocab, bigram_probability_df, 0.3, 0.7, 10, 0.001)"
   ]
  },
  {
   "cell_type": "code",
   "execution_count": 46,
   "metadata": {},
   "outputs": [],
   "source": [
    "def autocorrect_bigram_min_edit(sentence, vocab, probs, bigram_probability_df, scale_dist=0.001):\n",
    "    print(\"Input sentence : \", sentence)\n",
    "    wrong_words = find_wrong_word(sentence, vocab)\n",
    "    #print(wrong_words)\n",
    "    correct_words = []\n",
    "    word_list = sentence.strip().lower().split(\" \")\n",
    "    for i, word in enumerate(word_list):\n",
    "        #print(i, word)\n",
    "        \n",
    "        #### Previous word\n",
    "        if i==0:\n",
    "            prev_word = '<s>'\n",
    "        else:\n",
    "            prev_word = word_list[i-1]\n",
    "            \n",
    "        if word in wrong_words:\n",
    "            correct_word = get_correct_word_bigram_min_edit(word, prev_word, probs, vocab, bigram_probability_df, 0.3, 0.7, 10, scale_dist)\n",
    "            #print(word, correct_word)\n",
    "            word = correct_word\n",
    "        correct_words.append(word)\n",
    "    print(\"Output Sentence : \", \" \".join(correct_words).capitalize())"
   ]
  },
  {
   "cell_type": "markdown",
   "metadata": {},
   "source": [
    "### Demo"
   ]
  },
  {
   "cell_type": "code",
   "execution_count": 52,
   "metadata": {},
   "outputs": [
    {
     "name": "stdout",
     "output_type": "stream",
     "text": [
      "Input sentence :  she is RELLY beutifule.\n",
      "Output Sentence :  she is hell beutifule.\n"
     ]
    }
   ],
   "source": [
    "autocorrect('she is really beutifule.', vocab, probs)"
   ]
  },
  {
   "cell_type": "code",
   "execution_count": 48,
   "metadata": {},
   "outputs": [
    {
     "name": "stdout",
     "output_type": "stream",
     "text": [
      "Input sentence :  life iis a drink annd lave is a drung\n",
      "Output Sentence :  Life is a drink and love is a ring\n"
     ]
    }
   ],
   "source": [
    "autocorrect_bigram('life iis a drink annd lave is a drung', vocab, probs, bigram_probability_df)"
   ]
  },
  {
   "cell_type": "markdown",
   "metadata": {},
   "source": [
    "## Evaluation"
   ]
  },
  {
   "cell_type": "code",
   "execution_count": 49,
   "metadata": {},
   "outputs": [],
   "source": [
    "unit_tets_data = {\n",
    "    'I was on hime' : 'I was on time',\n",
    "    'Lerning is tha best': 'Learning is the best',\n",
    "    'What is meking processs of pizza?': 'What is the making process of pizza?',\n",
    "    'life iis a drink annd lave is a drung': 'Lif is a drink and love is a drug'\n",
    "}"
   ]
  },
  {
   "cell_type": "markdown",
   "metadata": {},
   "source": [
    "### Conclusion"
   ]
  },
  {
   "cell_type": "markdown",
   "metadata": {},
   "source": [
    "\n",
    "### If you liked this project consider **UPVOTING** it. Thanks!\n",
    "\n",
    "References - \n",
    "- [How to Write a Spelling Corrector](https://norvig.com/spell-correct.html)\n",
    "- [Coursera NLP Specialization](https://www.coursera.org/learn/probabilistic-models-in-nlp/home/welcome)\n",
    "\n",
    "#### Happy Learning!!"
   ]
  },
  {
   "cell_type": "code",
   "execution_count": null,
   "metadata": {},
   "outputs": [],
   "source": []
  }
 ],
 "metadata": {
  "kernelspec": {
   "display_name": "Python 3",
   "language": "python",
   "name": "python3"
  },
  "language_info": {
   "codemirror_mode": {
    "name": "ipython",
    "version": 3
   },
   "file_extension": ".py",
   "mimetype": "text/x-python",
   "name": "python",
   "nbconvert_exporter": "python",
   "pygments_lexer": "ipython3",
   "version": "3.7.3"
  }
 },
 "nbformat": 4,
 "nbformat_minor": 4
}
